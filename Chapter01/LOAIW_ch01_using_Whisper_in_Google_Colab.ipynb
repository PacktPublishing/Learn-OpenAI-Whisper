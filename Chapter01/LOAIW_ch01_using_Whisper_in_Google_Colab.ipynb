{
  "nbformat": 4,
  "nbformat_minor": 0,
  "metadata": {
    "colab": {
      "provenance": [],
      "gpuType": "T4"
    },
    "kernelspec": {
      "name": "python3",
      "display_name": "Python 3"
    },
    "language_info": {
      "name": "python"
    },
    "accelerator": "GPU"
  },
  "cells": [
    {
      "cell_type": "markdown",
      "source": [
        "# Using Whisper in Google Colab\n",
        "This notebook provides a simple template for using OpenAI's Whisper for audio transcription in Google Colab.\n",
        "\n",
        "[![Open In Colab](https://colab.research.google.com/assets/colab-badge.svg)](https://colab.research.google.com/drive/1UKDLaTbhwJ3LnrKmIYbHcW7R3KomTBma)\n",
        "## Install Whisper\n",
        "Run the cell below to install Whisper."
      ],
      "metadata": {
        "id": "DQlDUDCte1d4"
      }
    },
    {
      "cell_type": "code",
      "execution_count": null,
      "metadata": {
        "id": "WcZajWk8eG6o"
      },
      "outputs": [],
      "source": [
        "!pip install git+https://github.com/openai/whisper.git"
      ]
    },
    {
      "cell_type": "markdown",
      "source": [
        "##Option 1: Upload Your Audio File\n",
        "Use the file upload feature of Google Colab to upload your audio file.\n",
        "\n",
        "Also, a recording of the author's voice can be found at Packt's GitHub repository:\n",
        "\n",
        "https://github.com/PacktPublishing/Learn-OpenAI-Whisper/blob/main/Chapter01/Learn_OAI_Whisper_Sample_Audio01.m4a\n",
        "\n",
        "### Transcribe audio\n",
        "If uploaded file, replace 'your_audio_file_here' with your file's name and run the cell to transcribe."
      ],
      "metadata": {
        "id": "KVCG4VGCVg8P"
      }
    },
    {
      "cell_type": "code",
      "source": [
        "!whisper your_audio_file_here --model small.en"
      ],
      "metadata": {
        "id": "wf8PQ3qSX_X4"
      },
      "execution_count": null,
      "outputs": []
    },
    {
      "cell_type": "markdown",
      "source": [
        "# Oprion 2: Download sample files"
      ],
      "metadata": {
        "id": "F9Aa7J7wGXJC"
      }
    },
    {
      "cell_type": "code",
      "source": [
        "# Install gdown library, allows downloading of files from Google Drive - https://pypi.org/project/gdown/\n",
        "!pip install --upgrade gdown"
      ],
      "metadata": {
        "id": "HTJ2E-iaHry1"
      },
      "execution_count": null,
      "outputs": []
    },
    {
      "cell_type": "code",
      "source": [
        "# Download using Google Drive Ids\n",
        "\n",
        "file_id1 = '11ur787d87Z49luASqxNUqyiRsEIAR0O7'\n",
        "file_id2 = '1gAcVBDBO9MJw-8TEHGORRd0cKjrRtQEY'\n",
        "\n",
        "!gdown $file_id1 -O Learn_OAI_Whisper_Sample_Audio01.mp3\n",
        "!gdown $file_id2 -O Learn_OAI_Whisper_Sample_Audio02.mp3"
      ],
      "metadata": {
        "id": "cqLL1sKqGVok"
      },
      "execution_count": null,
      "outputs": []
    },
    {
      "cell_type": "code",
      "execution_count": null,
      "metadata": {
        "id": "3de4cf7b"
      },
      "outputs": [],
      "source": [
        "mono_file = \"Learn_OAI_Whisper_Sample_Audio01.mp3\"\n",
        "stereo_file = \"Learn_OAI_Whisper_Sample_Audio02.mp3\""
      ]
    },
    {
      "cell_type": "code",
      "source": [
        "import whisper\n",
        "\n",
        "# Load the small English model\n",
        "model = whisper.load_model(\"small\")"
      ],
      "metadata": {
        "id": "FyTSMCMnImDn"
      },
      "execution_count": null,
      "outputs": []
    },
    {
      "cell_type": "code",
      "source": [
        "# Transcribe the mono audio file\n",
        "result = model.transcribe(mono_file)\n",
        "print(\"Transcription of mono_file:\")\n",
        "print(result[\"text\"])"
      ],
      "metadata": {
        "id": "XQN1vzABIKFl"
      },
      "execution_count": null,
      "outputs": []
    },
    {
      "cell_type": "code",
      "source": [
        "# Transcribe the stereo audio file\n",
        "result = model.transcribe(stereo_file)\n",
        "print(\"Transcription of stereo_file:\")\n",
        "print(result[\"text\"])"
      ],
      "metadata": {
        "id": "Q3NTddFBFo88"
      },
      "execution_count": null,
      "outputs": []
    }
  ]
}
