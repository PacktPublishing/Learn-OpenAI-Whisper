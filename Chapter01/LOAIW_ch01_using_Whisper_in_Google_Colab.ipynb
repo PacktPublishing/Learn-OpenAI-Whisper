{
  "nbformat": 4,
  "nbformat_minor": 0,
  "metadata": {
    "colab": {
      "provenance": [],
      "gpuType": "T4"
    },
    "kernelspec": {
      "name": "python3",
      "display_name": "Python 3"
    },
    "language_info": {
      "name": "python"
    },
    "accelerator": "GPU"
  },
  "cells": [
    {
      "cell_type": "markdown",
      "source": [
        "# Using Whisper in Google Colab\n",
        "This notebook provides a simple template for using OpenAI's Whisper for audio transcription in Google Colab.\n",
        "\n",
        "[![Open In Colab](https://colab.research.google.com/assets/colab-badge.svg)](https://colab.research.google.com/drive/1uka0UhZJBWIwLcubsFbiOw8fNGlBBI-a)\n",
        "## Install Whisper\n",
        "Run the cell below to install Whisper.\n",
        "\n",
        "The Python libraries `openai`, `cohere`, and `tiktoken` are also installed because of dependencies for the `llmx` library. That is because `llmx` relies on them to function correctly. Each of these libraries provides specific functionalities that `llmx` uses.\n",
        "\n",
        "1. `openai`: This is the official Python library for the OpenAI API. It provides convenient access to the OpenAI REST API from any Python 3.7+ application. The library includes type definitions for all request parameters and response fields, and offers both synchronous and asynchronous clients powered by `httpx`.\n",
        "\n",
        "2. `cohere`: The Cohere platform builds natural language processing and generation into your product with a few lines of code. It can solve a broad spectrum of natural language use cases, including classification, semantic search, paraphrasing, summarization, and content generation.\n",
        "\n",
        "3. `tiktoken`: This is a fast Byte Pair Encoding (BPE) tokenizer for use with OpenAI's models. It's used to tokenize text into subwords, a necessary step before feeding text into many modern language models."
      ],
      "metadata": {
        "id": "DQlDUDCte1d4"
      }
    },
    {
      "cell_type": "code",
      "execution_count": null,
      "metadata": {
        "id": "WcZajWk8eG6o"
      },
      "outputs": [],
      "source": [
        "%%capture\n",
        "!pip install -q cohere openai tiktoken\n",
        "!pip install -q git+https://github.com/openai/whisper.git"
      ]
    },
    {
      "cell_type": "markdown",
      "source": [
        "##Option 1: Upload audio file\n",
        "Use the file upload feature of Google Colab to upload your audio file.\n",
        "\n",
        "Also, a recording of the author's voice can be found at Packt's GitHub repository:\n",
        "\n",
        "https://github.com/PacktPublishing/Learn-OpenAI-Whisper/blob/main/Chapter01/Learn_OAI_Whisper_Sample_Audio01.m4a"
      ],
      "metadata": {
        "id": "KVCG4VGCVg8P"
      }
    },
    {
      "cell_type": "code",
      "source": [
        "import ipywidgets as widgets\n",
        "uploader = widgets.FileUpload(accept='.mp3,.wav,.m4a', multiple=False)\n",
        "display(uploader)\n",
        "\n",
        "# Once this block runs, click the upload button below to upload your downloaded .m4a file"
      ],
      "metadata": {
        "id": "FnMnZ0T0oAKS"
      },
      "execution_count": null,
      "outputs": []
    },
    {
      "cell_type": "code",
      "source": [
        "# Convert the dict_items to a list and get the first item (your file and its info)\n",
        "file_key, file_info = list(uploader.value.items())[0]\n",
        "file_name = file_info['metadata']['name']\n",
        "file_content = file_info['content']\n",
        "with open(file_name, \"wb\") as fp:\n",
        "    fp.write(file_content)"
      ],
      "metadata": {
        "id": "Ib6Jyf1VvTFO"
      },
      "execution_count": null,
      "outputs": []
    },
    {
      "cell_type": "code",
      "source": [
        "import ipywidgets as widgets\n",
        "widgets.Audio.from_file(file_name, autoplay=False, loop=False)"
      ],
      "metadata": {
        "id": "-aYnSX1blhsA"
      },
      "execution_count": null,
      "outputs": []
    },
    {
      "cell_type": "code",
      "source": [
        "# One option to run Whisper is using command-line parameters\n",
        "# This command transcribes the uploaded file using Whisper medium size English only model\n",
        "!whisper {file_name} --model medium.en"
      ],
      "metadata": {
        "id": "wf8PQ3qSX_X4"
      },
      "execution_count": null,
      "outputs": []
    },
    {
      "cell_type": "markdown",
      "source": [
        "# Option 2: Download sample files"
      ],
      "metadata": {
        "id": "F9Aa7J7wGXJC"
      }
    },
    {
      "cell_type": "code",
      "source": [
        "!wget -nv https://github.com/PacktPublishing/Learn-OpenAI-Whisper/raw/main/Chapter01/Learn_OAI_Whisper_Sample_Audio01.mp3\n",
        "!wget -nv https://github.com/PacktPublishing/Learn-OpenAI-Whisper/raw/main/Chapter01/Learn_OAI_Whisper_Sample_Audio02.mp3"
      ],
      "metadata": {
        "id": "Z_O4SOyQAJrT"
      },
      "execution_count": null,
      "outputs": []
    },
    {
      "cell_type": "code",
      "execution_count": null,
      "metadata": {
        "id": "3de4cf7b"
      },
      "outputs": [],
      "source": [
        "mono_file = \"Learn_OAI_Whisper_Sample_Audio01.mp3\"\n",
        "stereo_file = \"Learn_OAI_Whisper_Sample_Audio02.mp3\""
      ]
    },
    {
      "cell_type": "code",
      "source": [
        "import ipywidgets as widgets\n",
        "widgets.Audio.from_file(mono_file, autoplay=False, loop=False)"
      ],
      "metadata": {
        "id": "dHi6eXCLBAYP"
      },
      "execution_count": null,
      "outputs": []
    },
    {
      "cell_type": "code",
      "source": [
        "import ipywidgets as widgets\n",
        "widgets.Audio.from_file(stereo_file, autoplay=False, loop=False)"
      ],
      "metadata": {
        "id": "0uX3-0_RBEUA"
      },
      "execution_count": null,
      "outputs": []
    },
    {
      "cell_type": "code",
      "source": [
        "# Another way to run Whisper is by instatntiating a model object\n",
        "import whisper\n",
        "\n",
        "# Load the small English language model\n",
        "model = whisper.load_model(\"small.en\")"
      ],
      "metadata": {
        "id": "FyTSMCMnImDn"
      },
      "execution_count": null,
      "outputs": []
    },
    {
      "cell_type": "code",
      "source": [
        "# NLTK helps to split the transcription sentence by sentence\n",
        "# and shows it in a neat manner one below another. You will see it in the output below.\n",
        "\n",
        "import nltk\n",
        "nltk.download('punkt')\n",
        "from nltk import sent_tokenize"
      ],
      "metadata": {
        "id": "dXMVkjEKBv-K"
      },
      "execution_count": null,
      "outputs": []
    },
    {
      "cell_type": "code",
      "source": [
        "# Transcribe the mono audio file\n",
        "result = model.transcribe(mono_file)\n",
        "print(\"Transcription of mono_file:\")\n",
        "for sent in sent_tokenize(result['text']):\n",
        "  print(sent)"
      ],
      "metadata": {
        "id": "XQN1vzABIKFl"
      },
      "execution_count": null,
      "outputs": []
    },
    {
      "cell_type": "code",
      "source": [
        "# Transcribe the stereo audio file\n",
        "result = model.transcribe(stereo_file)\n",
        "print(\"Transcription of stereo_file:\")\n",
        "for sent in sent_tokenize(result['text']):\n",
        "  print(sent)"
      ],
      "metadata": {
        "id": "Q3NTddFBFo88"
      },
      "execution_count": null,
      "outputs": []
    },
    {
      "cell_type": "markdown",
      "source": [
        "# **The following blocks are examples from Chapter 1 that showcase other functionalities of Whisper**"
      ],
      "metadata": {
        "id": "lqbO7womWF46"
      }
    },
    {
      "cell_type": "code",
      "source": [
        "'''\n",
        "Specifying language: You can specify the language for more accurate transcription.\n",
        "'''\n",
        "!whisper {file_name} --model small --language Spanish"
      ],
      "metadata": {
        "id": "a7Tk5bd0TH8F"
      },
      "execution_count": null,
      "outputs": []
    },
    {
      "cell_type": "code",
      "source": [
        "'''\n",
        "Sending output to a specific folder: Instead of saving the transcription output in the same directory\n",
        "location as the file being processed, you can direct the output to a specific directory using the --output_dir flag.\n",
        "'''\n",
        "!whisper {file_name} --model small.en --output_dir \"/content/WhisperDemoOutputs/\"\n",
        "# Once this block runs, click the refresh folder button on the left to view output folder"
      ],
      "metadata": {
        "id": "POqbhgQXTnXI"
      },
      "execution_count": null,
      "outputs": []
    },
    {
      "cell_type": "code",
      "source": [
        "'''\n",
        "Modeling specific tasks: Whisper can handle different tasks like transcription and translation.\n",
        "Specify the task using the --task flag. Use -- task translate for translation from foreign audio to\n",
        "English transcription. Whisper will not translate to any other target language than English.\n",
        "If you have a non English audio file, upload it above and run this block of code.\n",
        "'''\n",
        "file_key, file_info = list(uploader.value.items())[0]\n",
        "file_name = file_info['metadata']['name']\n",
        "file_content = file_info['content']\n",
        "with open(file_name, \"wb\") as fp:\n",
        "    fp.write(file_content)\n",
        "\n",
        "!whisper {file_name} --model small --task translate --output_dir \"/content/WhisperDemoTranslate/\""
      ],
      "metadata": {
        "id": "tYz3a2RJUDj2"
      },
      "execution_count": null,
      "outputs": []
    },
    {
      "cell_type": "code",
      "source": [
        "'''\n",
        "clip_timestamps: This allows for comma-separated list start, end, start, end,... timestamps (in seconds)\n",
        "of clips to process from the audio file, for example, use the – clip_timestamps to process the first 5 seconds\n",
        "of the audio clip\n",
        "'''\n",
        "!whisper {file_name} --model small.en --clip_timestamps 0,5"
      ],
      "metadata": {
        "id": "NDXfWp15WgpH"
      },
      "execution_count": null,
      "outputs": []
    },
    {
      "cell_type": "code",
      "source": [
        "'''\n",
        "Controlling the number of best transcription candidates: Whisper's --best-of parameter controls how many\n",
        "candidate transcriptions Whisper returns during decoding. The default value is 1, which returns just the\n",
        "top predicted transcription. Increasing to 3–5 provides some alternative options.\n",
        "'''\n",
        "!whisper {file_name} --model small.en --best_of 3"
      ],
      "metadata": {
        "id": "anJiXin5W71u"
      },
      "execution_count": null,
      "outputs": []
    },
    {
      "cell_type": "code",
      "source": [
        "'''\n",
        "Adjusting temperature: The temperature parameter controls the randomness in generation tasks like translation.\n",
        "Lower values produce more predictable results.\n",
        "'''\n",
        "!whisper {file_name} --model small.en --temperature 0"
      ],
      "metadata": {
        "id": "1keYUQgVXn4V"
      },
      "execution_count": null,
      "outputs": []
    },
    {
      "cell_type": "code",
      "source": [
        "'''\n",
        "Adjusting the beam size for decoding: Whisper's --beam-size flag controls the beam search size during decoding.\n",
        "Beam size affects the accuracy and speed of transcription. A larger beam size might improve accuracy\n",
        "but will slow down processing.\n",
        "'''\n",
        "!whisper {file_name} --model small.en --temperature 0 --beam_size 2"
      ],
      "metadata": {
        "id": "_CPNCbI_YOY8"
      },
      "execution_count": null,
      "outputs": []
    },
    {
      "cell_type": "markdown",
      "source": [
        "# A word or two about --beam_size and --temperature\n",
        "\n",
        "The `--beam_size` parameter in OpenAI's Whisper model refers to the number of beams used in [beam search](https://www.width.ai/post/what-is-beam-search) during the decoding process. Beam search is a heuristic search algorithm that explores a graph by expanding the most promising node in a limited set. In the context of Whisper, which is an automatic speech recognition (ASR) model, beam search is used to find the most likely sequence of words given the audio input.\n",
        "\n",
        "The `--temperature` parameter is used to control the randomness of the output during sampling. A higher temperature results in more random outputs, while a lower temperature makes the model's outputs more deterministic. When the temperature is set to zero, the model uses a greedy decoding strategy, always choosing the most likely next word.\n",
        "\n",
        "The relationship between `--beam_size` and `--temperature` is that they both influence the decoding strategy and the diversity of the generated text. A larger `--beam_size` can potentially increase the accuracy of the transcription by considering more alternative word sequences, but it also requires more computational resources and can [slow down the inference process](https://github.com/openai/whisper/discussions/396). On the other hand, `--temperature` affects the variability of the output; a non-zero temperature allows for sampling from a distribution of possible next words, which can introduce variability and potentially capture more nuances in the speech.\n",
        "\n",
        "In practice, the `--beam_size` parameter is used when the [temperature is set to zero](https://huggingface.co/spaces/aadnk/whisper-webui/blob/main/docs/options.md), indicating that beam search should be used. If the temperature is non-zero, the `--best_of` parameter is used instead to determine the number of candidates to sample from. The Whisper model uses a dynamic temperature setting, starting with a temperature of 0 and increasing it by 0.2 up to 1.0 when certain conditions are met, such as when the average log probability over the generated tokens is lower than a threshold or when the generated text has a [gzip compression](https://community.openai.com/t/whisper-hallucination-how-to-recognize-and-solve/218307/16) rate higher than a certain value.\n",
        "\n",
        "In summary, `--beam_size` controls the breadth of the search in beam search decoding, and `--temperature` controls the randomness of the output during sampling. They are part of the decoding strategy that affects the final transcription or translation produced by the Whisper model."
      ],
      "metadata": {
        "id": "Bj5uKAfpDNvc"
      }
    },
    {
      "cell_type": "markdown",
      "source": [
        "# Gratitude\n",
        "\n",
        "Many thanks to Naval Katoch for his valuable insights."
      ],
      "metadata": {
        "id": "1_qasqaAKHPR"
      }
    }
  ]
}