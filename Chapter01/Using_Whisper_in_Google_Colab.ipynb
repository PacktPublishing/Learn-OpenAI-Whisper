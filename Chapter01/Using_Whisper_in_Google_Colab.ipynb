{
  "nbformat": 4,
  "nbformat_minor": 0,
  "metadata": {
    "colab": {
      "provenance": []
    },
    "kernelspec": {
      "name": "python3",
      "display_name": "Python 3"
    },
    "language_info": {
      "name": "python"
    }
  },
  "cells": [
    {
      "cell_type": "markdown",
      "source": [
        "#Using Whisper in Google Colab\n",
        "This notebook provides a simple template for using OpenAI's Whisper for audio transcription in Google Colab.\n",
        "\n",
        "##Step 1: Install Whisper\n",
        "Run the cell below to install Whisper."
      ],
      "metadata": {
        "id": "DQlDUDCte1d4"
      }
    },
    {
      "cell_type": "code",
      "source": [
        "[![Open In Colab](https://colab.research.google.com/assets/colab-badge.svg)](https://github.com/PacktPublishing/Learn-OpenAI-Whisper/blob/main/Chapter01/Using_Whisper_in_Google_Colab.ipynb)"
      ],
      "metadata": {
        "id": "ygMvsxGJNnMQ"
      },
      "execution_count": null,
      "outputs": []
    },
    {
      "cell_type": "code",
      "execution_count": null,
      "metadata": {
        "id": "WcZajWk8eG6o"
      },
      "outputs": [],
      "source": [
        "!pip install git+https://github.com/openai/whisper.git"
      ]
    },
    {
      "cell_type": "markdown",
      "source": [
        "##Step 2: Upload Your Audio File\n",
        "Use the file upload feature of Google Colab to upload your audio file.\n",
        "\n",
        "##Step 3: Transcribe Audio\n",
        "Replace 'your_audio_file_here.wav' with your file's name and run the cell."
      ],
      "metadata": {
        "id": "WrX-6RDFfL6e"
      }
    },
    {
      "cell_type": "code",
      "source": [
        "import whisper\n",
        "\n",
        "model = whisper.load_model(\"medium.en\")\n",
        "result = model.transcribe(\"/content/Learn_OAI_Whisper_Sample_Audio01.m4a\")\n",
        "print(result[\"text\"])"
      ],
      "metadata": {
        "id": "g1f-bkrufLbM"
      },
      "execution_count": null,
      "outputs": []
    },
    {
      "cell_type": "markdown",
      "source": [
        "##Step 4: Review the Transcription\n",
        "The transcription will be displayed in the output of the cell."
      ],
      "metadata": {
        "id": "PoJJUwg0fZbo"
      }
    }
  ]
}