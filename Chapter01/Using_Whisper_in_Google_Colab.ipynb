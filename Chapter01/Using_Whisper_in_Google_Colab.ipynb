{
  "nbformat": 4,
  "nbformat_minor": 0,
  "metadata": {
    "colab": {
      "provenance": []
    },
    "kernelspec": {
      "name": "python3",
      "display_name": "Python 3"
    },
    "language_info": {
      "name": "python"
    }
  },
  "cells": [
    {
      "cell_type": "markdown",
      "source": [
        "#Using Whisper in Google Colab\n",
        "This notebook provides a simple template for using OpenAI's Whisper for audio transcription in Google Colab.\n",
        "\n",
        "[![Open In Colab](https://colab.research.google.com/assets/colab-badge.svg)](https://github.com/PacktPublishing/Learn-OpenAI-Whisper/blob/main/Chapter01/Using_Whisper_in_Google_Colab.ipynb)\n",
        "##Step 1: Install Whisper\n",
        "Run the cell below to install Whisper."
      ],
      "metadata": {
        "id": "DQlDUDCte1d4"
      }
    },
    {
      "cell_type": "code",
      "execution_count": null,
      "metadata": {
        "id": "WcZajWk8eG6o"
      },
      "outputs": [],
      "source": [
        "!pip install git+https://github.com/openai/whisper.git\n",
        "!sudo apt update && sudo apt install ffmpeg"
      ]
    },
    {
      "cell_type": "markdown",
      "source": [
        "##Step 2: Upload Your Audio File\n",
        "Use the file upload feature of Google Colab to upload your audio file.\n",
        "\n",
        "Also, a recording of the author's voice can be found at Packt's GitHub repository:\n",
        "\n",
        "https://github.com/PacktPublishing/Learn-OpenAI-Whisper/blob/main/Chapter01/Learn_OAI_Whisper_Sample_Audio01.m4a"
      ],
      "metadata": {
        "id": "KVCG4VGCVg8P"
      }
    },
    {
      "cell_type": "markdown",
      "source": [
        "##Step 3: Transcribe Audio\n",
        "Replace 'your_audio_file_here.wav' with your file's name and run the cell."
      ],
      "metadata": {
        "id": "WrX-6RDFfL6e"
      }
    },
    {
      "cell_type": "code",
      "source": [
        "!whisper your_audio_file_here.wav --model small.en"
      ],
      "metadata": {
        "id": "wf8PQ3qSX_X4"
      },
      "execution_count": null,
      "outputs": []
    },
    {
      "cell_type": "markdown",
      "source": [
        "##Step 4: Review the Transcription\n",
        "The transcription will be displayed in the output of the cell."
      ],
      "metadata": {
        "id": "PoJJUwg0fZbo"
      }
    }
  ]
}