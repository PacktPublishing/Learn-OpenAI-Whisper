{
  "cells": [
    {
      "cell_type": "code",
      "execution_count": null,
      "metadata": {
        "id": "sOi3PQHTwtrk"
      },
      "outputs": [],
      "source": [
        "# Set environmental variables\n",
        "# CMAKE_ARGS=\"-DLLAMA_CUBLAS=on\"\n",
        "import os\n",
        "os.environ[\"CMAKE_ARGS\"] = \"-DLLAMA_CUBLAS=on\"\n",
        "print(os.getenv(\"CMAKE_ARGS\"))"
      ]
    },
    {
      "cell_type": "code",
      "execution_count": null,
      "metadata": {
        "id": "6bvyny_mf2na"
      },
      "outputs": [],
      "source": [
        "!pip install llama-cpp-python==0.2.34\n",
        "!huggingface-cli download TheBloke/stablelm-zephyr-3b-GGUF stablelm-zephyr-3b.Q5_K_S.gguf --local-dir . --local-dir-use-symlinks False\n",
        "!pip install -q git+https://github.com/openai/whisper.git\n",
        "!pip install -q gradio\n",
        "!pip install -q gTTS"
      ]
    },
    {
      "cell_type": "code",
      "execution_count": null,
      "metadata": {
        "id": "I859xTaaiCZ_"
      },
      "outputs": [],
      "source": [
        "import datetime\n",
        "import os\n",
        "# import time\n",
        "from rich.console import Console\n",
        "console = Console(width=110)"
      ]
    },
    {
      "cell_type": "code",
      "execution_count": null,
      "metadata": {
        "id": "7DcwSW-8izb3"
      },
      "outputs": [],
      "source": [
        "## Logger file\n",
        "tstamp = datetime.datetime.now()\n",
        "tstamp = str(tstamp).replace(' ','_')\n",
        "logfile = f'{tstamp}_log.txt'\n",
        "def writehistory(text):\n",
        "    with open(logfile, 'a', encoding='utf-8') as f:\n",
        "        f.write(text)\n",
        "        f.write('\\n')\n",
        "    f.close()"
      ]
    },
    {
      "cell_type": "code",
      "execution_count": null,
      "metadata": {
        "id": "gp0dQJCKqkSr"
      },
      "outputs": [],
      "source": [
        "## Load a llama-cpp-python quantized model\n",
        "from llama_cpp import Llama\n",
        "with console.status(\"Loading ✅✅✅✅ stablelm-zephyr-3b with LLAMA.CPP...\",spinner=\"dots12\"):\n",
        "  llm_gpu = Llama(\n",
        "    model_path=\"/content/stablelm-zephyr-3b.Q5_K_S.gguf\",  # Download the model file first\n",
        "    n_ctx=4096,  # The max sequence length to use - note that longer sequence lengths require much more resources\n",
        "    n_threads=8,            # The number of CPU threads to use, tailor to your system and the resulting performance\n",
        "    n_gpu_layers=35         # The number of layers to offload to GPU, if you have GPU acceleration available\n",
        ")\n",
        "writehistory(f\"{str(datetime.datetime.now())} Loaded 🧠 stablelm-zephyr-3b.Q5_K_S.gguf with GPU enabled\")"
      ]
    },
    {
      "cell_type": "code",
      "execution_count": null,
      "metadata": {
        "id": "IdmxO4GMq28R"
      },
      "outputs": [],
      "source": [
        "# Simple inference example\n",
        "prompt=\"In short response, what is the capital of France?\"\n",
        "\n",
        "template = f\"<|user|>\\n{prompt}<|endoftext|>\\n<|assistant|>\"\n",
        "\n",
        "start = datetime.datetime.now()\n",
        "output = llm_gpu(\n",
        "    template, # Prompt\n",
        "    # temperature=0.3,\n",
        "    temperature=0,\n",
        "    max_tokens=512,  # Generate up to 512 tokens\n",
        "    stop=[\"</s>\"],   # Example stop token - not necessarily correct for this specific model! Please check before using.\n",
        "    echo=False        # Whether to echo the prompt\n",
        ")\n",
        "delta = datetime.datetime.now() - start\n",
        "console.print(f\"[bright_green bold on black]Question: {prompt}\")\n",
        "console.print(output['choices'][0]['text'])\n",
        "console.print(f\"Completed in: [bold red]{delta}\")\n",
        "writehistory(f\"{str(datetime.datetime.now())} Inference completed in: {delta}\")"
      ]
    },
    {
      "cell_type": "code",
      "execution_count": null,
      "metadata": {
        "id": "uSNRY2N0H5_7"
      },
      "outputs": [],
      "source": [
        "import re\n",
        "\n",
        "def llm_call(input_text):\n",
        "    prompt = \"\"\"Act as Tatianna, a junior-level assistant characterized by your cheerful demeanor and unwavering helpfulness. \\\n",
        "    Respond to this instruction or question, do not include information about yourself unless is part of the action or question: \\\n",
        "    \"\"\" + input_text\n",
        "\n",
        "    template = f\"<|user|>\\n{prompt}<|endoftext|>\\n<|assistant|>\"\n",
        "\n",
        "    start = datetime.datetime.now()\n",
        "    response = llm_gpu(\n",
        "        template, # Prompt\n",
        "        temperature=0.1,\n",
        "        max_tokens=200,  # Generate up to 512 tokens\n",
        "        stop=[\"</s>\"],   # Example stop token - not necessarily correct for this specific model! Please check before using.\n",
        "        echo=False        # Whether to echo the prompt\n",
        "    )\n",
        "\n",
        "    delta = datetime.datetime.now() - start\n",
        "    writehistory(f\"{str(datetime.datetime.now())} Inference completed in: {delta}\")\n",
        "    # # Properly extract the response text\n",
        "    # if response is not None:\n",
        "    #     match = re.search(r'Tatiana:\\s*(.*)', response['choices'][0]['text'])\n",
        "    #     if match:\n",
        "    #         # Extract the text after \"ASSISTANT:\"\n",
        "    #         reply = match.group(1)\n",
        "    #     else:\n",
        "    #         reply = \"No response found.\"\n",
        "    # else:\n",
        "    #     reply = \"No response generated.\"\n",
        "\n",
        "    # return reply\n",
        "\n",
        "    if response is not None:\n",
        "        reply = response['choices'][0]['text']\n",
        "    else:\n",
        "        reply = \"No response generated.\"\n",
        "    return reply"
      ]
    },
    {
      "cell_type": "code",
      "execution_count": null,
      "metadata": {
        "id": "qR5ESVFzSPAM"
      },
      "outputs": [],
      "source": [
        "llm_call(\"Hello, good afternoon, you are new here, what is your name?\")"
      ]
    },
    {
      "cell_type": "code",
      "execution_count": null,
      "metadata": {
        "id": "vXULc7EKVFLC"
      },
      "outputs": [],
      "source": [
        "import warnings\n",
        "from gtts import gTTS\n",
        "import numpy as np\n",
        "import torch\n",
        "warnings.filterwarnings(\"ignore\")\n",
        "torch.cuda.is_available()\n",
        "DEVICE = \"cuda\" if torch.cuda.is_available() else \"cpu\"\n",
        "print(f\"Using torch {torch.__version__} ({DEVICE})\")"
      ]
    },
    {
      "cell_type": "code",
      "execution_count": null,
      "metadata": {
        "id": "MdTWHxPzVP4W"
      },
      "outputs": [],
      "source": [
        "import whisper\n",
        "model = whisper.load_model(\"medium\", device=DEVICE)\n",
        "print(\n",
        "    f\"Model is {'multilingual' if model.is_multilingual else 'English-only'} \"\n",
        "    f\"and has {sum(np.prod(p.shape) for p in model.parameters()):,} parameters.\"\n",
        ")"
      ]
    },
    {
      "cell_type": "code",
      "execution_count": null,
      "metadata": {
        "id": "Bc3pDc1jUpv5"
      },
      "outputs": [],
      "source": [
        "def transcribe(audio):\n",
        "\n",
        "    # Check if the audio input is None or empty\n",
        "    if audio is None or audio == '':\n",
        "        return ('','',None)  # Return empty strings and None audio file\n",
        "\n",
        "    language = 'en'\n",
        "\n",
        "    audio = whisper.load_audio(audio)\n",
        "    audio = whisper.pad_or_trim(audio)\n",
        "\n",
        "    mel = whisper.log_mel_spectrogram(audio).to(model.device)\n",
        "\n",
        "    _, probs = model.detect_language(mel)\n",
        "\n",
        "    options = whisper.DecodingOptions()\n",
        "    result = whisper.decode(model, mel, options)\n",
        "    result_text = result.text\n",
        "\n",
        "    out_result = llm_call(result_text)\n",
        "\n",
        "    audioobj = gTTS(text = out_result,\n",
        "                    lang = language,\n",
        "                    slow = False)\n",
        "\n",
        "    audioobj.save(\"Temp.mp3\")\n",
        "\n",
        "    return [result_text, out_result, \"Temp.mp3\"]"
      ]
    },
    {
      "cell_type": "code",
      "execution_count": null,
      "metadata": {
        "id": "rO3yejFwHzGq"
      },
      "outputs": [],
      "source": [
        "!ffmpeg -f lavfi -i anullsrc=r=44100:cl=mono -t 10 -q:a 9 -acodec libmp3lame Temp.mp3"
      ]
    },
    {
      "cell_type": "code",
      "execution_count": null,
      "metadata": {
        "id": "CEp-FeYCV0Yk"
      },
      "outputs": [],
      "source": [
        "import gradio as gr\n",
        "\n",
        "output_1 = gr.Textbox(label=\"Speech to Text\")\n",
        "output_2 = gr.Textbox(label=\"ChatGPT Output\")\n",
        "output_3 = gr.Audio(\"Temp.mp3\", autoplay=True)\n",
        "\n",
        "gr.Interface(\n",
        "    title = 'Learn OpenAI Whisper: Voice Assistant - Using the StableLM Zephyr 3B model',\n",
        "    fn=transcribe,\n",
        "    # gr.inputs.Audio(source=\"microphone\", type=\"filepath\")\n",
        "    inputs = gr.Audio(sources=[\"microphone\"], type=\"filepath\"),\n",
        "    outputs=[\n",
        "        output_1,  output_2, output_3\n",
        "    ],\n",
        "    live=True).launch(debug=True)"
      ]
    }
  ],
  "metadata": {
    "accelerator": "GPU",
    "colab": {
      "gpuType": "T4",
      "provenance": []
    },
    "kernelspec": {
      "display_name": "Python 3",
      "name": "python3"
    },
    "language_info": {
      "name": "python"
    }
  },
  "nbformat": 4,
  "nbformat_minor": 0
}