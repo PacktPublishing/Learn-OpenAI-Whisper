{
  "nbformat": 4,
  "nbformat_minor": 0,
  "metadata": {
    "colab": {
      "provenance": [],
      "gpuType": "T4"
    },
    "kernelspec": {
      "name": "python3",
      "display_name": "Python 3"
    },
    "language_info": {
      "name": "python"
    },
    "accelerator": "GPU",
    "widgets": {
      "application/vnd.jupyter.widget-state+json": {
        "cb2c9f1a4ed64319bc0f5d02e831a921": {
          "model_module": "@jupyter-widgets/controls",
          "model_name": "HBoxModel",
          "model_module_version": "1.5.0",
          "state": {
            "_dom_classes": [],
            "_model_module": "@jupyter-widgets/controls",
            "_model_module_version": "1.5.0",
            "_model_name": "HBoxModel",
            "_view_count": null,
            "_view_module": "@jupyter-widgets/controls",
            "_view_module_version": "1.5.0",
            "_view_name": "HBoxView",
            "box_style": "",
            "children": [
              "IPY_MODEL_0d59237689ad4922ba7b5febd440ff82",
              "IPY_MODEL_4e6152b8bd6c4480b429fc7ce56b2841",
              "IPY_MODEL_543a9ff960884adfaf2710a27f5aa515"
            ],
            "layout": "IPY_MODEL_730a5ea98715476faf1ef5e47836d90c"
          }
        },
        "0d59237689ad4922ba7b5febd440ff82": {
          "model_module": "@jupyter-widgets/controls",
          "model_name": "HTMLModel",
          "model_module_version": "1.5.0",
          "state": {
            "_dom_classes": [],
            "_model_module": "@jupyter-widgets/controls",
            "_model_module_version": "1.5.0",
            "_model_name": "HTMLModel",
            "_view_count": null,
            "_view_module": "@jupyter-widgets/controls",
            "_view_module_version": "1.5.0",
            "_view_name": "HTMLView",
            "description": "",
            "description_tooltip": null,
            "layout": "IPY_MODEL_be1ec3cfa58141d39927ada3e7b72467",
            "placeholder": "​",
            "style": "IPY_MODEL_fcf3e11b87684cce815b91b702ef963d",
            "value": "Downloading builder script: 100%"
          }
        },
        "4e6152b8bd6c4480b429fc7ce56b2841": {
          "model_module": "@jupyter-widgets/controls",
          "model_name": "FloatProgressModel",
          "model_module_version": "1.5.0",
          "state": {
            "_dom_classes": [],
            "_model_module": "@jupyter-widgets/controls",
            "_model_module_version": "1.5.0",
            "_model_name": "FloatProgressModel",
            "_view_count": null,
            "_view_module": "@jupyter-widgets/controls",
            "_view_module_version": "1.5.0",
            "_view_name": "ProgressView",
            "bar_style": "success",
            "description": "",
            "description_tooltip": null,
            "layout": "IPY_MODEL_9890907f609f4486b705ae47386aa7bc",
            "max": 5903,
            "min": 0,
            "orientation": "horizontal",
            "style": "IPY_MODEL_86717ac6fdd44851a6685d0e69c08a28",
            "value": 5903
          }
        },
        "543a9ff960884adfaf2710a27f5aa515": {
          "model_module": "@jupyter-widgets/controls",
          "model_name": "HTMLModel",
          "model_module_version": "1.5.0",
          "state": {
            "_dom_classes": [],
            "_model_module": "@jupyter-widgets/controls",
            "_model_module_version": "1.5.0",
            "_model_name": "HTMLModel",
            "_view_count": null,
            "_view_module": "@jupyter-widgets/controls",
            "_view_module_version": "1.5.0",
            "_view_name": "HTMLView",
            "description": "",
            "description_tooltip": null,
            "layout": "IPY_MODEL_28219cac48064bab85a4bf0d3a0f82ea",
            "placeholder": "​",
            "style": "IPY_MODEL_f35df67965cb445e831f2e226f657b73",
            "value": " 5.90k/5.90k [00:00&lt;00:00, 377kB/s]"
          }
        },
        "730a5ea98715476faf1ef5e47836d90c": {
          "model_module": "@jupyter-widgets/base",
          "model_name": "LayoutModel",
          "model_module_version": "1.2.0",
          "state": {
            "_model_module": "@jupyter-widgets/base",
            "_model_module_version": "1.2.0",
            "_model_name": "LayoutModel",
            "_view_count": null,
            "_view_module": "@jupyter-widgets/base",
            "_view_module_version": "1.2.0",
            "_view_name": "LayoutView",
            "align_content": null,
            "align_items": null,
            "align_self": null,
            "border": null,
            "bottom": null,
            "display": null,
            "flex": null,
            "flex_flow": null,
            "grid_area": null,
            "grid_auto_columns": null,
            "grid_auto_flow": null,
            "grid_auto_rows": null,
            "grid_column": null,
            "grid_gap": null,
            "grid_row": null,
            "grid_template_areas": null,
            "grid_template_columns": null,
            "grid_template_rows": null,
            "height": null,
            "justify_content": null,
            "justify_items": null,
            "left": null,
            "margin": null,
            "max_height": null,
            "max_width": null,
            "min_height": null,
            "min_width": null,
            "object_fit": null,
            "object_position": null,
            "order": null,
            "overflow": null,
            "overflow_x": null,
            "overflow_y": null,
            "padding": null,
            "right": null,
            "top": null,
            "visibility": null,
            "width": null
          }
        },
        "be1ec3cfa58141d39927ada3e7b72467": {
          "model_module": "@jupyter-widgets/base",
          "model_name": "LayoutModel",
          "model_module_version": "1.2.0",
          "state": {
            "_model_module": "@jupyter-widgets/base",
            "_model_module_version": "1.2.0",
            "_model_name": "LayoutModel",
            "_view_count": null,
            "_view_module": "@jupyter-widgets/base",
            "_view_module_version": "1.2.0",
            "_view_name": "LayoutView",
            "align_content": null,
            "align_items": null,
            "align_self": null,
            "border": null,
            "bottom": null,
            "display": null,
            "flex": null,
            "flex_flow": null,
            "grid_area": null,
            "grid_auto_columns": null,
            "grid_auto_flow": null,
            "grid_auto_rows": null,
            "grid_column": null,
            "grid_gap": null,
            "grid_row": null,
            "grid_template_areas": null,
            "grid_template_columns": null,
            "grid_template_rows": null,
            "height": null,
            "justify_content": null,
            "justify_items": null,
            "left": null,
            "margin": null,
            "max_height": null,
            "max_width": null,
            "min_height": null,
            "min_width": null,
            "object_fit": null,
            "object_position": null,
            "order": null,
            "overflow": null,
            "overflow_x": null,
            "overflow_y": null,
            "padding": null,
            "right": null,
            "top": null,
            "visibility": null,
            "width": null
          }
        },
        "fcf3e11b87684cce815b91b702ef963d": {
          "model_module": "@jupyter-widgets/controls",
          "model_name": "DescriptionStyleModel",
          "model_module_version": "1.5.0",
          "state": {
            "_model_module": "@jupyter-widgets/controls",
            "_model_module_version": "1.5.0",
            "_model_name": "DescriptionStyleModel",
            "_view_count": null,
            "_view_module": "@jupyter-widgets/base",
            "_view_module_version": "1.2.0",
            "_view_name": "StyleView",
            "description_width": ""
          }
        },
        "9890907f609f4486b705ae47386aa7bc": {
          "model_module": "@jupyter-widgets/base",
          "model_name": "LayoutModel",
          "model_module_version": "1.2.0",
          "state": {
            "_model_module": "@jupyter-widgets/base",
            "_model_module_version": "1.2.0",
            "_model_name": "LayoutModel",
            "_view_count": null,
            "_view_module": "@jupyter-widgets/base",
            "_view_module_version": "1.2.0",
            "_view_name": "LayoutView",
            "align_content": null,
            "align_items": null,
            "align_self": null,
            "border": null,
            "bottom": null,
            "display": null,
            "flex": null,
            "flex_flow": null,
            "grid_area": null,
            "grid_auto_columns": null,
            "grid_auto_flow": null,
            "grid_auto_rows": null,
            "grid_column": null,
            "grid_gap": null,
            "grid_row": null,
            "grid_template_areas": null,
            "grid_template_columns": null,
            "grid_template_rows": null,
            "height": null,
            "justify_content": null,
            "justify_items": null,
            "left": null,
            "margin": null,
            "max_height": null,
            "max_width": null,
            "min_height": null,
            "min_width": null,
            "object_fit": null,
            "object_position": null,
            "order": null,
            "overflow": null,
            "overflow_x": null,
            "overflow_y": null,
            "padding": null,
            "right": null,
            "top": null,
            "visibility": null,
            "width": null
          }
        },
        "86717ac6fdd44851a6685d0e69c08a28": {
          "model_module": "@jupyter-widgets/controls",
          "model_name": "ProgressStyleModel",
          "model_module_version": "1.5.0",
          "state": {
            "_model_module": "@jupyter-widgets/controls",
            "_model_module_version": "1.5.0",
            "_model_name": "ProgressStyleModel",
            "_view_count": null,
            "_view_module": "@jupyter-widgets/base",
            "_view_module_version": "1.2.0",
            "_view_name": "StyleView",
            "bar_color": null,
            "description_width": ""
          }
        },
        "28219cac48064bab85a4bf0d3a0f82ea": {
          "model_module": "@jupyter-widgets/base",
          "model_name": "LayoutModel",
          "model_module_version": "1.2.0",
          "state": {
            "_model_module": "@jupyter-widgets/base",
            "_model_module_version": "1.2.0",
            "_model_name": "LayoutModel",
            "_view_count": null,
            "_view_module": "@jupyter-widgets/base",
            "_view_module_version": "1.2.0",
            "_view_name": "LayoutView",
            "align_content": null,
            "align_items": null,
            "align_self": null,
            "border": null,
            "bottom": null,
            "display": null,
            "flex": null,
            "flex_flow": null,
            "grid_area": null,
            "grid_auto_columns": null,
            "grid_auto_flow": null,
            "grid_auto_rows": null,
            "grid_column": null,
            "grid_gap": null,
            "grid_row": null,
            "grid_template_areas": null,
            "grid_template_columns": null,
            "grid_template_rows": null,
            "height": null,
            "justify_content": null,
            "justify_items": null,
            "left": null,
            "margin": null,
            "max_height": null,
            "max_width": null,
            "min_height": null,
            "min_width": null,
            "object_fit": null,
            "object_position": null,
            "order": null,
            "overflow": null,
            "overflow_x": null,
            "overflow_y": null,
            "padding": null,
            "right": null,
            "top": null,
            "visibility": null,
            "width": null
          }
        },
        "f35df67965cb445e831f2e226f657b73": {
          "model_module": "@jupyter-widgets/controls",
          "model_name": "DescriptionStyleModel",
          "model_module_version": "1.5.0",
          "state": {
            "_model_module": "@jupyter-widgets/controls",
            "_model_module_version": "1.5.0",
            "_model_name": "DescriptionStyleModel",
            "_view_count": null,
            "_view_module": "@jupyter-widgets/base",
            "_view_module_version": "1.2.0",
            "_view_name": "StyleView",
            "description_width": ""
          }
        },
        "7715aa724bf34750af9a878a829b4120": {
          "model_module": "@jupyter-widgets/controls",
          "model_name": "HBoxModel",
          "model_module_version": "1.5.0",
          "state": {
            "_dom_classes": [],
            "_model_module": "@jupyter-widgets/controls",
            "_model_module_version": "1.5.0",
            "_model_name": "HBoxModel",
            "_view_count": null,
            "_view_module": "@jupyter-widgets/controls",
            "_view_module_version": "1.5.0",
            "_view_name": "HBoxView",
            "box_style": "",
            "children": [
              "IPY_MODEL_6fc2ff77315947fb8353659cce063f45",
              "IPY_MODEL_73e438eebd214069902cb2fa786741b9",
              "IPY_MODEL_be3761ea8d9f4d50995ff2a92ab7ed04"
            ],
            "layout": "IPY_MODEL_a962773686e448a0a421f6f6ae7e1a99"
          }
        },
        "6fc2ff77315947fb8353659cce063f45": {
          "model_module": "@jupyter-widgets/controls",
          "model_name": "HTMLModel",
          "model_module_version": "1.5.0",
          "state": {
            "_dom_classes": [],
            "_model_module": "@jupyter-widgets/controls",
            "_model_module_version": "1.5.0",
            "_model_name": "HTMLModel",
            "_view_count": null,
            "_view_module": "@jupyter-widgets/controls",
            "_view_module_version": "1.5.0",
            "_view_name": "HTMLView",
            "description": "",
            "description_tooltip": null,
            "layout": "IPY_MODEL_6f2e8250438f4aa9806348d6614c4eed",
            "placeholder": "​",
            "style": "IPY_MODEL_bcc24dbfbf034b83ac8b67213b47e196",
            "value": "Downloading readme: 100%"
          }
        },
        "73e438eebd214069902cb2fa786741b9": {
          "model_module": "@jupyter-widgets/controls",
          "model_name": "FloatProgressModel",
          "model_module_version": "1.5.0",
          "state": {
            "_dom_classes": [],
            "_model_module": "@jupyter-widgets/controls",
            "_model_module_version": "1.5.0",
            "_model_name": "FloatProgressModel",
            "_view_count": null,
            "_view_module": "@jupyter-widgets/controls",
            "_view_module_version": "1.5.0",
            "_view_name": "ProgressView",
            "bar_style": "success",
            "description": "",
            "description_tooltip": null,
            "layout": "IPY_MODEL_633d3e51f5f845f8ad134b91b0f2ec3f",
            "max": 5292,
            "min": 0,
            "orientation": "horizontal",
            "style": "IPY_MODEL_e666c5b7af2e48b1870c27f4c7568998",
            "value": 5292
          }
        },
        "be3761ea8d9f4d50995ff2a92ab7ed04": {
          "model_module": "@jupyter-widgets/controls",
          "model_name": "HTMLModel",
          "model_module_version": "1.5.0",
          "state": {
            "_dom_classes": [],
            "_model_module": "@jupyter-widgets/controls",
            "_model_module_version": "1.5.0",
            "_model_name": "HTMLModel",
            "_view_count": null,
            "_view_module": "@jupyter-widgets/controls",
            "_view_module_version": "1.5.0",
            "_view_name": "HTMLView",
            "description": "",
            "description_tooltip": null,
            "layout": "IPY_MODEL_c348846225334c1c8d6d9bb0d5851bbd",
            "placeholder": "​",
            "style": "IPY_MODEL_3192d2aa78494fdf92d06c9e9fb3952a",
            "value": " 5.29k/5.29k [00:00&lt;00:00, 195kB/s]"
          }
        },
        "a962773686e448a0a421f6f6ae7e1a99": {
          "model_module": "@jupyter-widgets/base",
          "model_name": "LayoutModel",
          "model_module_version": "1.2.0",
          "state": {
            "_model_module": "@jupyter-widgets/base",
            "_model_module_version": "1.2.0",
            "_model_name": "LayoutModel",
            "_view_count": null,
            "_view_module": "@jupyter-widgets/base",
            "_view_module_version": "1.2.0",
            "_view_name": "LayoutView",
            "align_content": null,
            "align_items": null,
            "align_self": null,
            "border": null,
            "bottom": null,
            "display": null,
            "flex": null,
            "flex_flow": null,
            "grid_area": null,
            "grid_auto_columns": null,
            "grid_auto_flow": null,
            "grid_auto_rows": null,
            "grid_column": null,
            "grid_gap": null,
            "grid_row": null,
            "grid_template_areas": null,
            "grid_template_columns": null,
            "grid_template_rows": null,
            "height": null,
            "justify_content": null,
            "justify_items": null,
            "left": null,
            "margin": null,
            "max_height": null,
            "max_width": null,
            "min_height": null,
            "min_width": null,
            "object_fit": null,
            "object_position": null,
            "order": null,
            "overflow": null,
            "overflow_x": null,
            "overflow_y": null,
            "padding": null,
            "right": null,
            "top": null,
            "visibility": null,
            "width": null
          }
        },
        "6f2e8250438f4aa9806348d6614c4eed": {
          "model_module": "@jupyter-widgets/base",
          "model_name": "LayoutModel",
          "model_module_version": "1.2.0",
          "state": {
            "_model_module": "@jupyter-widgets/base",
            "_model_module_version": "1.2.0",
            "_model_name": "LayoutModel",
            "_view_count": null,
            "_view_module": "@jupyter-widgets/base",
            "_view_module_version": "1.2.0",
            "_view_name": "LayoutView",
            "align_content": null,
            "align_items": null,
            "align_self": null,
            "border": null,
            "bottom": null,
            "display": null,
            "flex": null,
            "flex_flow": null,
            "grid_area": null,
            "grid_auto_columns": null,
            "grid_auto_flow": null,
            "grid_auto_rows": null,
            "grid_column": null,
            "grid_gap": null,
            "grid_row": null,
            "grid_template_areas": null,
            "grid_template_columns": null,
            "grid_template_rows": null,
            "height": null,
            "justify_content": null,
            "justify_items": null,
            "left": null,
            "margin": null,
            "max_height": null,
            "max_width": null,
            "min_height": null,
            "min_width": null,
            "object_fit": null,
            "object_position": null,
            "order": null,
            "overflow": null,
            "overflow_x": null,
            "overflow_y": null,
            "padding": null,
            "right": null,
            "top": null,
            "visibility": null,
            "width": null
          }
        },
        "bcc24dbfbf034b83ac8b67213b47e196": {
          "model_module": "@jupyter-widgets/controls",
          "model_name": "DescriptionStyleModel",
          "model_module_version": "1.5.0",
          "state": {
            "_model_module": "@jupyter-widgets/controls",
            "_model_module_version": "1.5.0",
            "_model_name": "DescriptionStyleModel",
            "_view_count": null,
            "_view_module": "@jupyter-widgets/base",
            "_view_module_version": "1.2.0",
            "_view_name": "StyleView",
            "description_width": ""
          }
        },
        "633d3e51f5f845f8ad134b91b0f2ec3f": {
          "model_module": "@jupyter-widgets/base",
          "model_name": "LayoutModel",
          "model_module_version": "1.2.0",
          "state": {
            "_model_module": "@jupyter-widgets/base",
            "_model_module_version": "1.2.0",
            "_model_name": "LayoutModel",
            "_view_count": null,
            "_view_module": "@jupyter-widgets/base",
            "_view_module_version": "1.2.0",
            "_view_name": "LayoutView",
            "align_content": null,
            "align_items": null,
            "align_self": null,
            "border": null,
            "bottom": null,
            "display": null,
            "flex": null,
            "flex_flow": null,
            "grid_area": null,
            "grid_auto_columns": null,
            "grid_auto_flow": null,
            "grid_auto_rows": null,
            "grid_column": null,
            "grid_gap": null,
            "grid_row": null,
            "grid_template_areas": null,
            "grid_template_columns": null,
            "grid_template_rows": null,
            "height": null,
            "justify_content": null,
            "justify_items": null,
            "left": null,
            "margin": null,
            "max_height": null,
            "max_width": null,
            "min_height": null,
            "min_width": null,
            "object_fit": null,
            "object_position": null,
            "order": null,
            "overflow": null,
            "overflow_x": null,
            "overflow_y": null,
            "padding": null,
            "right": null,
            "top": null,
            "visibility": null,
            "width": null
          }
        },
        "e666c5b7af2e48b1870c27f4c7568998": {
          "model_module": "@jupyter-widgets/controls",
          "model_name": "ProgressStyleModel",
          "model_module_version": "1.5.0",
          "state": {
            "_model_module": "@jupyter-widgets/controls",
            "_model_module_version": "1.5.0",
            "_model_name": "ProgressStyleModel",
            "_view_count": null,
            "_view_module": "@jupyter-widgets/base",
            "_view_module_version": "1.2.0",
            "_view_name": "StyleView",
            "bar_color": null,
            "description_width": ""
          }
        },
        "c348846225334c1c8d6d9bb0d5851bbd": {
          "model_module": "@jupyter-widgets/base",
          "model_name": "LayoutModel",
          "model_module_version": "1.2.0",
          "state": {
            "_model_module": "@jupyter-widgets/base",
            "_model_module_version": "1.2.0",
            "_model_name": "LayoutModel",
            "_view_count": null,
            "_view_module": "@jupyter-widgets/base",
            "_view_module_version": "1.2.0",
            "_view_name": "LayoutView",
            "align_content": null,
            "align_items": null,
            "align_self": null,
            "border": null,
            "bottom": null,
            "display": null,
            "flex": null,
            "flex_flow": null,
            "grid_area": null,
            "grid_auto_columns": null,
            "grid_auto_flow": null,
            "grid_auto_rows": null,
            "grid_column": null,
            "grid_gap": null,
            "grid_row": null,
            "grid_template_areas": null,
            "grid_template_columns": null,
            "grid_template_rows": null,
            "height": null,
            "justify_content": null,
            "justify_items": null,
            "left": null,
            "margin": null,
            "max_height": null,
            "max_width": null,
            "min_height": null,
            "min_width": null,
            "object_fit": null,
            "object_position": null,
            "order": null,
            "overflow": null,
            "overflow_x": null,
            "overflow_y": null,
            "padding": null,
            "right": null,
            "top": null,
            "visibility": null,
            "width": null
          }
        },
        "3192d2aa78494fdf92d06c9e9fb3952a": {
          "model_module": "@jupyter-widgets/controls",
          "model_name": "DescriptionStyleModel",
          "model_module_version": "1.5.0",
          "state": {
            "_model_module": "@jupyter-widgets/controls",
            "_model_module_version": "1.5.0",
            "_model_name": "DescriptionStyleModel",
            "_view_count": null,
            "_view_module": "@jupyter-widgets/base",
            "_view_module_version": "1.2.0",
            "_view_name": "StyleView",
            "description_width": ""
          }
        },
        "da1afbba67d14a79b3fd48791bf48ffe": {
          "model_module": "@jupyter-widgets/controls",
          "model_name": "HBoxModel",
          "model_module_version": "1.5.0",
          "state": {
            "_dom_classes": [],
            "_model_module": "@jupyter-widgets/controls",
            "_model_module_version": "1.5.0",
            "_model_name": "HBoxModel",
            "_view_count": null,
            "_view_module": "@jupyter-widgets/controls",
            "_view_module_version": "1.5.0",
            "_view_name": "HBoxView",
            "box_style": "",
            "children": [
              "IPY_MODEL_7caddeca1eb746da9aff7848d7cd0d74",
              "IPY_MODEL_a9d7e2ce534f4b93b9877e9116cae3df",
              "IPY_MODEL_10a4d8d9d84f4b4db4262540cd84b7e6"
            ],
            "layout": "IPY_MODEL_0c6f81a54dd24bb2bf93304dd9b4969d"
          }
        },
        "7caddeca1eb746da9aff7848d7cd0d74": {
          "model_module": "@jupyter-widgets/controls",
          "model_name": "HTMLModel",
          "model_module_version": "1.5.0",
          "state": {
            "_dom_classes": [],
            "_model_module": "@jupyter-widgets/controls",
            "_model_module_version": "1.5.0",
            "_model_name": "HTMLModel",
            "_view_count": null,
            "_view_module": "@jupyter-widgets/controls",
            "_view_module_version": "1.5.0",
            "_view_name": "HTMLView",
            "description": "",
            "description_tooltip": null,
            "layout": "IPY_MODEL_cdb10bfbb8bb4d3fbb6aa5c33e139fe5",
            "placeholder": "​",
            "style": "IPY_MODEL_ff661b69157444f69e644197cfa3e06a",
            "value": "Downloading data: 100%"
          }
        },
        "a9d7e2ce534f4b93b9877e9116cae3df": {
          "model_module": "@jupyter-widgets/controls",
          "model_name": "FloatProgressModel",
          "model_module_version": "1.5.0",
          "state": {
            "_dom_classes": [],
            "_model_module": "@jupyter-widgets/controls",
            "_model_module_version": "1.5.0",
            "_model_name": "FloatProgressModel",
            "_view_count": null,
            "_view_module": "@jupyter-widgets/controls",
            "_view_module_version": "1.5.0",
            "_view_name": "ProgressView",
            "bar_style": "success",
            "description": "",
            "description_tooltip": null,
            "layout": "IPY_MODEL_eedd81bf92f741df9a8ffda2dc6a1896",
            "max": 471355396,
            "min": 0,
            "orientation": "horizontal",
            "style": "IPY_MODEL_bf62b15ff7b44982b1aec6dd234ccfc6",
            "value": 471355396
          }
        },
        "10a4d8d9d84f4b4db4262540cd84b7e6": {
          "model_module": "@jupyter-widgets/controls",
          "model_name": "HTMLModel",
          "model_module_version": "1.5.0",
          "state": {
            "_dom_classes": [],
            "_model_module": "@jupyter-widgets/controls",
            "_model_module_version": "1.5.0",
            "_model_name": "HTMLModel",
            "_view_count": null,
            "_view_module": "@jupyter-widgets/controls",
            "_view_module_version": "1.5.0",
            "_view_name": "HTMLView",
            "description": "",
            "description_tooltip": null,
            "layout": "IPY_MODEL_37a090ab47aa43588506bb329d2be5bd",
            "placeholder": "​",
            "style": "IPY_MODEL_53aec59f4ee34f938834181b43e10688",
            "value": " 471M/471M [00:33&lt;00:00, 14.3MB/s]"
          }
        },
        "0c6f81a54dd24bb2bf93304dd9b4969d": {
          "model_module": "@jupyter-widgets/base",
          "model_name": "LayoutModel",
          "model_module_version": "1.2.0",
          "state": {
            "_model_module": "@jupyter-widgets/base",
            "_model_module_version": "1.2.0",
            "_model_name": "LayoutModel",
            "_view_count": null,
            "_view_module": "@jupyter-widgets/base",
            "_view_module_version": "1.2.0",
            "_view_name": "LayoutView",
            "align_content": null,
            "align_items": null,
            "align_self": null,
            "border": null,
            "bottom": null,
            "display": null,
            "flex": null,
            "flex_flow": null,
            "grid_area": null,
            "grid_auto_columns": null,
            "grid_auto_flow": null,
            "grid_auto_rows": null,
            "grid_column": null,
            "grid_gap": null,
            "grid_row": null,
            "grid_template_areas": null,
            "grid_template_columns": null,
            "grid_template_rows": null,
            "height": null,
            "justify_content": null,
            "justify_items": null,
            "left": null,
            "margin": null,
            "max_height": null,
            "max_width": null,
            "min_height": null,
            "min_width": null,
            "object_fit": null,
            "object_position": null,
            "order": null,
            "overflow": null,
            "overflow_x": null,
            "overflow_y": null,
            "padding": null,
            "right": null,
            "top": null,
            "visibility": null,
            "width": null
          }
        },
        "cdb10bfbb8bb4d3fbb6aa5c33e139fe5": {
          "model_module": "@jupyter-widgets/base",
          "model_name": "LayoutModel",
          "model_module_version": "1.2.0",
          "state": {
            "_model_module": "@jupyter-widgets/base",
            "_model_module_version": "1.2.0",
            "_model_name": "LayoutModel",
            "_view_count": null,
            "_view_module": "@jupyter-widgets/base",
            "_view_module_version": "1.2.0",
            "_view_name": "LayoutView",
            "align_content": null,
            "align_items": null,
            "align_self": null,
            "border": null,
            "bottom": null,
            "display": null,
            "flex": null,
            "flex_flow": null,
            "grid_area": null,
            "grid_auto_columns": null,
            "grid_auto_flow": null,
            "grid_auto_rows": null,
            "grid_column": null,
            "grid_gap": null,
            "grid_row": null,
            "grid_template_areas": null,
            "grid_template_columns": null,
            "grid_template_rows": null,
            "height": null,
            "justify_content": null,
            "justify_items": null,
            "left": null,
            "margin": null,
            "max_height": null,
            "max_width": null,
            "min_height": null,
            "min_width": null,
            "object_fit": null,
            "object_position": null,
            "order": null,
            "overflow": null,
            "overflow_x": null,
            "overflow_y": null,
            "padding": null,
            "right": null,
            "top": null,
            "visibility": null,
            "width": null
          }
        },
        "ff661b69157444f69e644197cfa3e06a": {
          "model_module": "@jupyter-widgets/controls",
          "model_name": "DescriptionStyleModel",
          "model_module_version": "1.5.0",
          "state": {
            "_model_module": "@jupyter-widgets/controls",
            "_model_module_version": "1.5.0",
            "_model_name": "DescriptionStyleModel",
            "_view_count": null,
            "_view_module": "@jupyter-widgets/base",
            "_view_module_version": "1.2.0",
            "_view_name": "StyleView",
            "description_width": ""
          }
        },
        "eedd81bf92f741df9a8ffda2dc6a1896": {
          "model_module": "@jupyter-widgets/base",
          "model_name": "LayoutModel",
          "model_module_version": "1.2.0",
          "state": {
            "_model_module": "@jupyter-widgets/base",
            "_model_module_version": "1.2.0",
            "_model_name": "LayoutModel",
            "_view_count": null,
            "_view_module": "@jupyter-widgets/base",
            "_view_module_version": "1.2.0",
            "_view_name": "LayoutView",
            "align_content": null,
            "align_items": null,
            "align_self": null,
            "border": null,
            "bottom": null,
            "display": null,
            "flex": null,
            "flex_flow": null,
            "grid_area": null,
            "grid_auto_columns": null,
            "grid_auto_flow": null,
            "grid_auto_rows": null,
            "grid_column": null,
            "grid_gap": null,
            "grid_row": null,
            "grid_template_areas": null,
            "grid_template_columns": null,
            "grid_template_rows": null,
            "height": null,
            "justify_content": null,
            "justify_items": null,
            "left": null,
            "margin": null,
            "max_height": null,
            "max_width": null,
            "min_height": null,
            "min_width": null,
            "object_fit": null,
            "object_position": null,
            "order": null,
            "overflow": null,
            "overflow_x": null,
            "overflow_y": null,
            "padding": null,
            "right": null,
            "top": null,
            "visibility": null,
            "width": null
          }
        },
        "bf62b15ff7b44982b1aec6dd234ccfc6": {
          "model_module": "@jupyter-widgets/controls",
          "model_name": "ProgressStyleModel",
          "model_module_version": "1.5.0",
          "state": {
            "_model_module": "@jupyter-widgets/controls",
            "_model_module_version": "1.5.0",
            "_model_name": "ProgressStyleModel",
            "_view_count": null,
            "_view_module": "@jupyter-widgets/base",
            "_view_module_version": "1.2.0",
            "_view_name": "StyleView",
            "bar_color": null,
            "description_width": ""
          }
        },
        "37a090ab47aa43588506bb329d2be5bd": {
          "model_module": "@jupyter-widgets/base",
          "model_name": "LayoutModel",
          "model_module_version": "1.2.0",
          "state": {
            "_model_module": "@jupyter-widgets/base",
            "_model_module_version": "1.2.0",
            "_model_name": "LayoutModel",
            "_view_count": null,
            "_view_module": "@jupyter-widgets/base",
            "_view_module_version": "1.2.0",
            "_view_name": "LayoutView",
            "align_content": null,
            "align_items": null,
            "align_self": null,
            "border": null,
            "bottom": null,
            "display": null,
            "flex": null,
            "flex_flow": null,
            "grid_area": null,
            "grid_auto_columns": null,
            "grid_auto_flow": null,
            "grid_auto_rows": null,
            "grid_column": null,
            "grid_gap": null,
            "grid_row": null,
            "grid_template_areas": null,
            "grid_template_columns": null,
            "grid_template_rows": null,
            "height": null,
            "justify_content": null,
            "justify_items": null,
            "left": null,
            "margin": null,
            "max_height": null,
            "max_width": null,
            "min_height": null,
            "min_width": null,
            "object_fit": null,
            "object_position": null,
            "order": null,
            "overflow": null,
            "overflow_x": null,
            "overflow_y": null,
            "padding": null,
            "right": null,
            "top": null,
            "visibility": null,
            "width": null
          }
        },
        "53aec59f4ee34f938834181b43e10688": {
          "model_module": "@jupyter-widgets/controls",
          "model_name": "DescriptionStyleModel",
          "model_module_version": "1.5.0",
          "state": {
            "_model_module": "@jupyter-widgets/controls",
            "_model_module_version": "1.5.0",
            "_model_name": "DescriptionStyleModel",
            "_view_count": null,
            "_view_module": "@jupyter-widgets/base",
            "_view_module_version": "1.2.0",
            "_view_name": "StyleView",
            "description_width": ""
          }
        },
        "c7f833dc16ac491da5b4926d59918e9e": {
          "model_module": "@jupyter-widgets/controls",
          "model_name": "HBoxModel",
          "model_module_version": "1.5.0",
          "state": {
            "_dom_classes": [],
            "_model_module": "@jupyter-widgets/controls",
            "_model_module_version": "1.5.0",
            "_model_name": "HBoxModel",
            "_view_count": null,
            "_view_module": "@jupyter-widgets/controls",
            "_view_module_version": "1.5.0",
            "_view_name": "HBoxView",
            "box_style": "",
            "children": [
              "IPY_MODEL_b5dd8ba994bb4ae6891e36e367c80358",
              "IPY_MODEL_441cfee9749b4983bd294723ae1b5b4e",
              "IPY_MODEL_a2be885d1a6e49859039dfabf79e46f3"
            ],
            "layout": "IPY_MODEL_dd05bf24f5424cc0ae8cc1e6009ba752"
          }
        },
        "b5dd8ba994bb4ae6891e36e367c80358": {
          "model_module": "@jupyter-widgets/controls",
          "model_name": "HTMLModel",
          "model_module_version": "1.5.0",
          "state": {
            "_dom_classes": [],
            "_model_module": "@jupyter-widgets/controls",
            "_model_module_version": "1.5.0",
            "_model_name": "HTMLModel",
            "_view_count": null,
            "_view_module": "@jupyter-widgets/controls",
            "_view_module_version": "1.5.0",
            "_view_name": "HTMLView",
            "description": "",
            "description_tooltip": null,
            "layout": "IPY_MODEL_e7c951885f8d41ac923e3d80e0c8f583",
            "placeholder": "​",
            "style": "IPY_MODEL_e4f53523206f4ff08ab6f1f1fc254d7e",
            "value": "Generating train split: "
          }
        },
        "441cfee9749b4983bd294723ae1b5b4e": {
          "model_module": "@jupyter-widgets/controls",
          "model_name": "FloatProgressModel",
          "model_module_version": "1.5.0",
          "state": {
            "_dom_classes": [],
            "_model_module": "@jupyter-widgets/controls",
            "_model_module_version": "1.5.0",
            "_model_name": "FloatProgressModel",
            "_view_count": null,
            "_view_module": "@jupyter-widgets/controls",
            "_view_module_version": "1.5.0",
            "_view_name": "ProgressView",
            "bar_style": "success",
            "description": "",
            "description_tooltip": null,
            "layout": "IPY_MODEL_bd570281abc74449a8253743293348f1",
            "max": 1,
            "min": 0,
            "orientation": "horizontal",
            "style": "IPY_MODEL_4cdf57a23cdd42fcafda187247f77253",
            "value": 1
          }
        },
        "a2be885d1a6e49859039dfabf79e46f3": {
          "model_module": "@jupyter-widgets/controls",
          "model_name": "HTMLModel",
          "model_module_version": "1.5.0",
          "state": {
            "_dom_classes": [],
            "_model_module": "@jupyter-widgets/controls",
            "_model_module_version": "1.5.0",
            "_model_name": "HTMLModel",
            "_view_count": null,
            "_view_module": "@jupyter-widgets/controls",
            "_view_module_version": "1.5.0",
            "_view_name": "HTMLView",
            "description": "",
            "description_tooltip": null,
            "layout": "IPY_MODEL_6c7e3a879d4a46aca367187e64a0cda8",
            "placeholder": "​",
            "style": "IPY_MODEL_b38842241bd042faa7991e6cc7d69fdf",
            "value": " 563/0 [00:00&lt;00:00, 5253.60 examples/s]"
          }
        },
        "dd05bf24f5424cc0ae8cc1e6009ba752": {
          "model_module": "@jupyter-widgets/base",
          "model_name": "LayoutModel",
          "model_module_version": "1.2.0",
          "state": {
            "_model_module": "@jupyter-widgets/base",
            "_model_module_version": "1.2.0",
            "_model_name": "LayoutModel",
            "_view_count": null,
            "_view_module": "@jupyter-widgets/base",
            "_view_module_version": "1.2.0",
            "_view_name": "LayoutView",
            "align_content": null,
            "align_items": null,
            "align_self": null,
            "border": null,
            "bottom": null,
            "display": null,
            "flex": null,
            "flex_flow": null,
            "grid_area": null,
            "grid_auto_columns": null,
            "grid_auto_flow": null,
            "grid_auto_rows": null,
            "grid_column": null,
            "grid_gap": null,
            "grid_row": null,
            "grid_template_areas": null,
            "grid_template_columns": null,
            "grid_template_rows": null,
            "height": null,
            "justify_content": null,
            "justify_items": null,
            "left": null,
            "margin": null,
            "max_height": null,
            "max_width": null,
            "min_height": null,
            "min_width": null,
            "object_fit": null,
            "object_position": null,
            "order": null,
            "overflow": null,
            "overflow_x": null,
            "overflow_y": null,
            "padding": null,
            "right": null,
            "top": null,
            "visibility": null,
            "width": null
          }
        },
        "e7c951885f8d41ac923e3d80e0c8f583": {
          "model_module": "@jupyter-widgets/base",
          "model_name": "LayoutModel",
          "model_module_version": "1.2.0",
          "state": {
            "_model_module": "@jupyter-widgets/base",
            "_model_module_version": "1.2.0",
            "_model_name": "LayoutModel",
            "_view_count": null,
            "_view_module": "@jupyter-widgets/base",
            "_view_module_version": "1.2.0",
            "_view_name": "LayoutView",
            "align_content": null,
            "align_items": null,
            "align_self": null,
            "border": null,
            "bottom": null,
            "display": null,
            "flex": null,
            "flex_flow": null,
            "grid_area": null,
            "grid_auto_columns": null,
            "grid_auto_flow": null,
            "grid_auto_rows": null,
            "grid_column": null,
            "grid_gap": null,
            "grid_row": null,
            "grid_template_areas": null,
            "grid_template_columns": null,
            "grid_template_rows": null,
            "height": null,
            "justify_content": null,
            "justify_items": null,
            "left": null,
            "margin": null,
            "max_height": null,
            "max_width": null,
            "min_height": null,
            "min_width": null,
            "object_fit": null,
            "object_position": null,
            "order": null,
            "overflow": null,
            "overflow_x": null,
            "overflow_y": null,
            "padding": null,
            "right": null,
            "top": null,
            "visibility": null,
            "width": null
          }
        },
        "e4f53523206f4ff08ab6f1f1fc254d7e": {
          "model_module": "@jupyter-widgets/controls",
          "model_name": "DescriptionStyleModel",
          "model_module_version": "1.5.0",
          "state": {
            "_model_module": "@jupyter-widgets/controls",
            "_model_module_version": "1.5.0",
            "_model_name": "DescriptionStyleModel",
            "_view_count": null,
            "_view_module": "@jupyter-widgets/base",
            "_view_module_version": "1.2.0",
            "_view_name": "StyleView",
            "description_width": ""
          }
        },
        "bd570281abc74449a8253743293348f1": {
          "model_module": "@jupyter-widgets/base",
          "model_name": "LayoutModel",
          "model_module_version": "1.2.0",
          "state": {
            "_model_module": "@jupyter-widgets/base",
            "_model_module_version": "1.2.0",
            "_model_name": "LayoutModel",
            "_view_count": null,
            "_view_module": "@jupyter-widgets/base",
            "_view_module_version": "1.2.0",
            "_view_name": "LayoutView",
            "align_content": null,
            "align_items": null,
            "align_self": null,
            "border": null,
            "bottom": null,
            "display": null,
            "flex": null,
            "flex_flow": null,
            "grid_area": null,
            "grid_auto_columns": null,
            "grid_auto_flow": null,
            "grid_auto_rows": null,
            "grid_column": null,
            "grid_gap": null,
            "grid_row": null,
            "grid_template_areas": null,
            "grid_template_columns": null,
            "grid_template_rows": null,
            "height": null,
            "justify_content": null,
            "justify_items": null,
            "left": null,
            "margin": null,
            "max_height": null,
            "max_width": null,
            "min_height": null,
            "min_width": null,
            "object_fit": null,
            "object_position": null,
            "order": null,
            "overflow": null,
            "overflow_x": null,
            "overflow_y": null,
            "padding": null,
            "right": null,
            "top": null,
            "visibility": null,
            "width": "20px"
          }
        },
        "4cdf57a23cdd42fcafda187247f77253": {
          "model_module": "@jupyter-widgets/controls",
          "model_name": "ProgressStyleModel",
          "model_module_version": "1.5.0",
          "state": {
            "_model_module": "@jupyter-widgets/controls",
            "_model_module_version": "1.5.0",
            "_model_name": "ProgressStyleModel",
            "_view_count": null,
            "_view_module": "@jupyter-widgets/base",
            "_view_module_version": "1.2.0",
            "_view_name": "StyleView",
            "bar_color": null,
            "description_width": ""
          }
        },
        "6c7e3a879d4a46aca367187e64a0cda8": {
          "model_module": "@jupyter-widgets/base",
          "model_name": "LayoutModel",
          "model_module_version": "1.2.0",
          "state": {
            "_model_module": "@jupyter-widgets/base",
            "_model_module_version": "1.2.0",
            "_model_name": "LayoutModel",
            "_view_count": null,
            "_view_module": "@jupyter-widgets/base",
            "_view_module_version": "1.2.0",
            "_view_name": "LayoutView",
            "align_content": null,
            "align_items": null,
            "align_self": null,
            "border": null,
            "bottom": null,
            "display": null,
            "flex": null,
            "flex_flow": null,
            "grid_area": null,
            "grid_auto_columns": null,
            "grid_auto_flow": null,
            "grid_auto_rows": null,
            "grid_column": null,
            "grid_gap": null,
            "grid_row": null,
            "grid_template_areas": null,
            "grid_template_columns": null,
            "grid_template_rows": null,
            "height": null,
            "justify_content": null,
            "justify_items": null,
            "left": null,
            "margin": null,
            "max_height": null,
            "max_width": null,
            "min_height": null,
            "min_width": null,
            "object_fit": null,
            "object_position": null,
            "order": null,
            "overflow": null,
            "overflow_x": null,
            "overflow_y": null,
            "padding": null,
            "right": null,
            "top": null,
            "visibility": null,
            "width": null
          }
        },
        "b38842241bd042faa7991e6cc7d69fdf": {
          "model_module": "@jupyter-widgets/controls",
          "model_name": "DescriptionStyleModel",
          "model_module_version": "1.5.0",
          "state": {
            "_model_module": "@jupyter-widgets/controls",
            "_model_module_version": "1.5.0",
            "_model_name": "DescriptionStyleModel",
            "_view_count": null,
            "_view_module": "@jupyter-widgets/base",
            "_view_module_version": "1.2.0",
            "_view_name": "StyleView",
            "description_width": ""
          }
        },
        "7f6a2b6202c4412c9574538006e68fcb": {
          "model_module": "@jupyter-widgets/controls",
          "model_name": "HBoxModel",
          "model_module_version": "1.5.0",
          "state": {
            "_dom_classes": [],
            "_model_module": "@jupyter-widgets/controls",
            "_model_module_version": "1.5.0",
            "_model_name": "HBoxModel",
            "_view_count": null,
            "_view_module": "@jupyter-widgets/controls",
            "_view_module_version": "1.5.0",
            "_view_name": "HBoxView",
            "box_style": "",
            "children": [
              "IPY_MODEL_d014dbaa21274809855052a887a6f10a",
              "IPY_MODEL_ab9a92af54cd408989650e47aef3fb3a",
              "IPY_MODEL_2618b8658e75416d9566c4ad8714c3db"
            ],
            "layout": "IPY_MODEL_3f02196ca9954414ac55e2fb8d366ffb"
          }
        },
        "d014dbaa21274809855052a887a6f10a": {
          "model_module": "@jupyter-widgets/controls",
          "model_name": "HTMLModel",
          "model_module_version": "1.5.0",
          "state": {
            "_dom_classes": [],
            "_model_module": "@jupyter-widgets/controls",
            "_model_module_version": "1.5.0",
            "_model_name": "HTMLModel",
            "_view_count": null,
            "_view_module": "@jupyter-widgets/controls",
            "_view_module_version": "1.5.0",
            "_view_name": "HTMLView",
            "description": "",
            "description_tooltip": null,
            "layout": "IPY_MODEL_be5f2f25fa084050add7bfa686e46b4c",
            "placeholder": "​",
            "style": "IPY_MODEL_067123c1fb3d41e59166b430172099d5",
            "value": "Filter: 100%"
          }
        },
        "ab9a92af54cd408989650e47aef3fb3a": {
          "model_module": "@jupyter-widgets/controls",
          "model_name": "FloatProgressModel",
          "model_module_version": "1.5.0",
          "state": {
            "_dom_classes": [],
            "_model_module": "@jupyter-widgets/controls",
            "_model_module_version": "1.5.0",
            "_model_name": "FloatProgressModel",
            "_view_count": null,
            "_view_module": "@jupyter-widgets/controls",
            "_view_module_version": "1.5.0",
            "_view_name": "ProgressView",
            "bar_style": "success",
            "description": "",
            "description_tooltip": null,
            "layout": "IPY_MODEL_0d2e97f81a234caba64a0b4e16c7a589",
            "max": 563,
            "min": 0,
            "orientation": "horizontal",
            "style": "IPY_MODEL_7632ca4fcfeb449ba92071e3d577bfd0",
            "value": 563
          }
        },
        "2618b8658e75416d9566c4ad8714c3db": {
          "model_module": "@jupyter-widgets/controls",
          "model_name": "HTMLModel",
          "model_module_version": "1.5.0",
          "state": {
            "_dom_classes": [],
            "_model_module": "@jupyter-widgets/controls",
            "_model_module_version": "1.5.0",
            "_model_name": "HTMLModel",
            "_view_count": null,
            "_view_module": "@jupyter-widgets/controls",
            "_view_module_version": "1.5.0",
            "_view_name": "HTMLView",
            "description": "",
            "description_tooltip": null,
            "layout": "IPY_MODEL_2f5f4bd95e354ae083fa8e609248f27e",
            "placeholder": "​",
            "style": "IPY_MODEL_202572c5d12941bc8297e835f1b59a70",
            "value": " 563/563 [00:00&lt;00:00, 18567.48 examples/s]"
          }
        },
        "3f02196ca9954414ac55e2fb8d366ffb": {
          "model_module": "@jupyter-widgets/base",
          "model_name": "LayoutModel",
          "model_module_version": "1.2.0",
          "state": {
            "_model_module": "@jupyter-widgets/base",
            "_model_module_version": "1.2.0",
            "_model_name": "LayoutModel",
            "_view_count": null,
            "_view_module": "@jupyter-widgets/base",
            "_view_module_version": "1.2.0",
            "_view_name": "LayoutView",
            "align_content": null,
            "align_items": null,
            "align_self": null,
            "border": null,
            "bottom": null,
            "display": null,
            "flex": null,
            "flex_flow": null,
            "grid_area": null,
            "grid_auto_columns": null,
            "grid_auto_flow": null,
            "grid_auto_rows": null,
            "grid_column": null,
            "grid_gap": null,
            "grid_row": null,
            "grid_template_areas": null,
            "grid_template_columns": null,
            "grid_template_rows": null,
            "height": null,
            "justify_content": null,
            "justify_items": null,
            "left": null,
            "margin": null,
            "max_height": null,
            "max_width": null,
            "min_height": null,
            "min_width": null,
            "object_fit": null,
            "object_position": null,
            "order": null,
            "overflow": null,
            "overflow_x": null,
            "overflow_y": null,
            "padding": null,
            "right": null,
            "top": null,
            "visibility": null,
            "width": null
          }
        },
        "be5f2f25fa084050add7bfa686e46b4c": {
          "model_module": "@jupyter-widgets/base",
          "model_name": "LayoutModel",
          "model_module_version": "1.2.0",
          "state": {
            "_model_module": "@jupyter-widgets/base",
            "_model_module_version": "1.2.0",
            "_model_name": "LayoutModel",
            "_view_count": null,
            "_view_module": "@jupyter-widgets/base",
            "_view_module_version": "1.2.0",
            "_view_name": "LayoutView",
            "align_content": null,
            "align_items": null,
            "align_self": null,
            "border": null,
            "bottom": null,
            "display": null,
            "flex": null,
            "flex_flow": null,
            "grid_area": null,
            "grid_auto_columns": null,
            "grid_auto_flow": null,
            "grid_auto_rows": null,
            "grid_column": null,
            "grid_gap": null,
            "grid_row": null,
            "grid_template_areas": null,
            "grid_template_columns": null,
            "grid_template_rows": null,
            "height": null,
            "justify_content": null,
            "justify_items": null,
            "left": null,
            "margin": null,
            "max_height": null,
            "max_width": null,
            "min_height": null,
            "min_width": null,
            "object_fit": null,
            "object_position": null,
            "order": null,
            "overflow": null,
            "overflow_x": null,
            "overflow_y": null,
            "padding": null,
            "right": null,
            "top": null,
            "visibility": null,
            "width": null
          }
        },
        "067123c1fb3d41e59166b430172099d5": {
          "model_module": "@jupyter-widgets/controls",
          "model_name": "DescriptionStyleModel",
          "model_module_version": "1.5.0",
          "state": {
            "_model_module": "@jupyter-widgets/controls",
            "_model_module_version": "1.5.0",
            "_model_name": "DescriptionStyleModel",
            "_view_count": null,
            "_view_module": "@jupyter-widgets/base",
            "_view_module_version": "1.2.0",
            "_view_name": "StyleView",
            "description_width": ""
          }
        },
        "0d2e97f81a234caba64a0b4e16c7a589": {
          "model_module": "@jupyter-widgets/base",
          "model_name": "LayoutModel",
          "model_module_version": "1.2.0",
          "state": {
            "_model_module": "@jupyter-widgets/base",
            "_model_module_version": "1.2.0",
            "_model_name": "LayoutModel",
            "_view_count": null,
            "_view_module": "@jupyter-widgets/base",
            "_view_module_version": "1.2.0",
            "_view_name": "LayoutView",
            "align_content": null,
            "align_items": null,
            "align_self": null,
            "border": null,
            "bottom": null,
            "display": null,
            "flex": null,
            "flex_flow": null,
            "grid_area": null,
            "grid_auto_columns": null,
            "grid_auto_flow": null,
            "grid_auto_rows": null,
            "grid_column": null,
            "grid_gap": null,
            "grid_row": null,
            "grid_template_areas": null,
            "grid_template_columns": null,
            "grid_template_rows": null,
            "height": null,
            "justify_content": null,
            "justify_items": null,
            "left": null,
            "margin": null,
            "max_height": null,
            "max_width": null,
            "min_height": null,
            "min_width": null,
            "object_fit": null,
            "object_position": null,
            "order": null,
            "overflow": null,
            "overflow_x": null,
            "overflow_y": null,
            "padding": null,
            "right": null,
            "top": null,
            "visibility": null,
            "width": null
          }
        },
        "7632ca4fcfeb449ba92071e3d577bfd0": {
          "model_module": "@jupyter-widgets/controls",
          "model_name": "ProgressStyleModel",
          "model_module_version": "1.5.0",
          "state": {
            "_model_module": "@jupyter-widgets/controls",
            "_model_module_version": "1.5.0",
            "_model_name": "ProgressStyleModel",
            "_view_count": null,
            "_view_module": "@jupyter-widgets/base",
            "_view_module_version": "1.2.0",
            "_view_name": "StyleView",
            "bar_color": null,
            "description_width": ""
          }
        },
        "2f5f4bd95e354ae083fa8e609248f27e": {
          "model_module": "@jupyter-widgets/base",
          "model_name": "LayoutModel",
          "model_module_version": "1.2.0",
          "state": {
            "_model_module": "@jupyter-widgets/base",
            "_model_module_version": "1.2.0",
            "_model_name": "LayoutModel",
            "_view_count": null,
            "_view_module": "@jupyter-widgets/base",
            "_view_module_version": "1.2.0",
            "_view_name": "LayoutView",
            "align_content": null,
            "align_items": null,
            "align_self": null,
            "border": null,
            "bottom": null,
            "display": null,
            "flex": null,
            "flex_flow": null,
            "grid_area": null,
            "grid_auto_columns": null,
            "grid_auto_flow": null,
            "grid_auto_rows": null,
            "grid_column": null,
            "grid_gap": null,
            "grid_row": null,
            "grid_template_areas": null,
            "grid_template_columns": null,
            "grid_template_rows": null,
            "height": null,
            "justify_content": null,
            "justify_items": null,
            "left": null,
            "margin": null,
            "max_height": null,
            "max_width": null,
            "min_height": null,
            "min_width": null,
            "object_fit": null,
            "object_position": null,
            "order": null,
            "overflow": null,
            "overflow_x": null,
            "overflow_y": null,
            "padding": null,
            "right": null,
            "top": null,
            "visibility": null,
            "width": null
          }
        },
        "202572c5d12941bc8297e835f1b59a70": {
          "model_module": "@jupyter-widgets/controls",
          "model_name": "DescriptionStyleModel",
          "model_module_version": "1.5.0",
          "state": {
            "_model_module": "@jupyter-widgets/controls",
            "_model_module_version": "1.5.0",
            "_model_name": "DescriptionStyleModel",
            "_view_count": null,
            "_view_module": "@jupyter-widgets/base",
            "_view_module_version": "1.2.0",
            "_view_name": "StyleView",
            "description_width": ""
          }
        },
        "5fce160bea674c0b91e502054935c428": {
          "model_module": "@jupyter-widgets/controls",
          "model_name": "HBoxModel",
          "model_module_version": "1.5.0",
          "state": {
            "_dom_classes": [],
            "_model_module": "@jupyter-widgets/controls",
            "_model_module_version": "1.5.0",
            "_model_name": "HBoxModel",
            "_view_count": null,
            "_view_module": "@jupyter-widgets/controls",
            "_view_module_version": "1.5.0",
            "_view_name": "HBoxView",
            "box_style": "",
            "children": [
              "IPY_MODEL_e9ddc55420d7487e8b78f188cd6f3b63",
              "IPY_MODEL_8a413439bcc84b9cb18cc79f58f645a1",
              "IPY_MODEL_d8c9fd7beaab418eb39589db8ec9da67"
            ],
            "layout": "IPY_MODEL_643baf1b7c044b7dad040955d25359a0"
          }
        },
        "e9ddc55420d7487e8b78f188cd6f3b63": {
          "model_module": "@jupyter-widgets/controls",
          "model_name": "HTMLModel",
          "model_module_version": "1.5.0",
          "state": {
            "_dom_classes": [],
            "_model_module": "@jupyter-widgets/controls",
            "_model_module_version": "1.5.0",
            "_model_name": "HTMLModel",
            "_view_count": null,
            "_view_module": "@jupyter-widgets/controls",
            "_view_module_version": "1.5.0",
            "_view_name": "HTMLView",
            "description": "",
            "description_tooltip": null,
            "layout": "IPY_MODEL_7a1b4ae862894d34955c6f22e6aca895",
            "placeholder": "​",
            "style": "IPY_MODEL_fb6ebed185064b41ad73eb08cb0fc8de",
            "value": "preprocessor_config.json: 100%"
          }
        },
        "8a413439bcc84b9cb18cc79f58f645a1": {
          "model_module": "@jupyter-widgets/controls",
          "model_name": "FloatProgressModel",
          "model_module_version": "1.5.0",
          "state": {
            "_dom_classes": [],
            "_model_module": "@jupyter-widgets/controls",
            "_model_module_version": "1.5.0",
            "_model_name": "FloatProgressModel",
            "_view_count": null,
            "_view_module": "@jupyter-widgets/controls",
            "_view_module_version": "1.5.0",
            "_view_name": "ProgressView",
            "bar_style": "success",
            "description": "",
            "description_tooltip": null,
            "layout": "IPY_MODEL_6cebbfefa9bd4acf855c662df9ece6e9",
            "max": 184990,
            "min": 0,
            "orientation": "horizontal",
            "style": "IPY_MODEL_057da4db4eb7408688779ff93b42f937",
            "value": 184990
          }
        },
        "d8c9fd7beaab418eb39589db8ec9da67": {
          "model_module": "@jupyter-widgets/controls",
          "model_name": "HTMLModel",
          "model_module_version": "1.5.0",
          "state": {
            "_dom_classes": [],
            "_model_module": "@jupyter-widgets/controls",
            "_model_module_version": "1.5.0",
            "_model_name": "HTMLModel",
            "_view_count": null,
            "_view_module": "@jupyter-widgets/controls",
            "_view_module_version": "1.5.0",
            "_view_name": "HTMLView",
            "description": "",
            "description_tooltip": null,
            "layout": "IPY_MODEL_2d0afccd6aad4070b3276edd52798a93",
            "placeholder": "​",
            "style": "IPY_MODEL_5f04aad3122c49be962258720fccd3ae",
            "value": " 185k/185k [00:00&lt;00:00, 754kB/s]"
          }
        },
        "643baf1b7c044b7dad040955d25359a0": {
          "model_module": "@jupyter-widgets/base",
          "model_name": "LayoutModel",
          "model_module_version": "1.2.0",
          "state": {
            "_model_module": "@jupyter-widgets/base",
            "_model_module_version": "1.2.0",
            "_model_name": "LayoutModel",
            "_view_count": null,
            "_view_module": "@jupyter-widgets/base",
            "_view_module_version": "1.2.0",
            "_view_name": "LayoutView",
            "align_content": null,
            "align_items": null,
            "align_self": null,
            "border": null,
            "bottom": null,
            "display": null,
            "flex": null,
            "flex_flow": null,
            "grid_area": null,
            "grid_auto_columns": null,
            "grid_auto_flow": null,
            "grid_auto_rows": null,
            "grid_column": null,
            "grid_gap": null,
            "grid_row": null,
            "grid_template_areas": null,
            "grid_template_columns": null,
            "grid_template_rows": null,
            "height": null,
            "justify_content": null,
            "justify_items": null,
            "left": null,
            "margin": null,
            "max_height": null,
            "max_width": null,
            "min_height": null,
            "min_width": null,
            "object_fit": null,
            "object_position": null,
            "order": null,
            "overflow": null,
            "overflow_x": null,
            "overflow_y": null,
            "padding": null,
            "right": null,
            "top": null,
            "visibility": null,
            "width": null
          }
        },
        "7a1b4ae862894d34955c6f22e6aca895": {
          "model_module": "@jupyter-widgets/base",
          "model_name": "LayoutModel",
          "model_module_version": "1.2.0",
          "state": {
            "_model_module": "@jupyter-widgets/base",
            "_model_module_version": "1.2.0",
            "_model_name": "LayoutModel",
            "_view_count": null,
            "_view_module": "@jupyter-widgets/base",
            "_view_module_version": "1.2.0",
            "_view_name": "LayoutView",
            "align_content": null,
            "align_items": null,
            "align_self": null,
            "border": null,
            "bottom": null,
            "display": null,
            "flex": null,
            "flex_flow": null,
            "grid_area": null,
            "grid_auto_columns": null,
            "grid_auto_flow": null,
            "grid_auto_rows": null,
            "grid_column": null,
            "grid_gap": null,
            "grid_row": null,
            "grid_template_areas": null,
            "grid_template_columns": null,
            "grid_template_rows": null,
            "height": null,
            "justify_content": null,
            "justify_items": null,
            "left": null,
            "margin": null,
            "max_height": null,
            "max_width": null,
            "min_height": null,
            "min_width": null,
            "object_fit": null,
            "object_position": null,
            "order": null,
            "overflow": null,
            "overflow_x": null,
            "overflow_y": null,
            "padding": null,
            "right": null,
            "top": null,
            "visibility": null,
            "width": null
          }
        },
        "fb6ebed185064b41ad73eb08cb0fc8de": {
          "model_module": "@jupyter-widgets/controls",
          "model_name": "DescriptionStyleModel",
          "model_module_version": "1.5.0",
          "state": {
            "_model_module": "@jupyter-widgets/controls",
            "_model_module_version": "1.5.0",
            "_model_name": "DescriptionStyleModel",
            "_view_count": null,
            "_view_module": "@jupyter-widgets/base",
            "_view_module_version": "1.2.0",
            "_view_name": "StyleView",
            "description_width": ""
          }
        },
        "6cebbfefa9bd4acf855c662df9ece6e9": {
          "model_module": "@jupyter-widgets/base",
          "model_name": "LayoutModel",
          "model_module_version": "1.2.0",
          "state": {
            "_model_module": "@jupyter-widgets/base",
            "_model_module_version": "1.2.0",
            "_model_name": "LayoutModel",
            "_view_count": null,
            "_view_module": "@jupyter-widgets/base",
            "_view_module_version": "1.2.0",
            "_view_name": "LayoutView",
            "align_content": null,
            "align_items": null,
            "align_self": null,
            "border": null,
            "bottom": null,
            "display": null,
            "flex": null,
            "flex_flow": null,
            "grid_area": null,
            "grid_auto_columns": null,
            "grid_auto_flow": null,
            "grid_auto_rows": null,
            "grid_column": null,
            "grid_gap": null,
            "grid_row": null,
            "grid_template_areas": null,
            "grid_template_columns": null,
            "grid_template_rows": null,
            "height": null,
            "justify_content": null,
            "justify_items": null,
            "left": null,
            "margin": null,
            "max_height": null,
            "max_width": null,
            "min_height": null,
            "min_width": null,
            "object_fit": null,
            "object_position": null,
            "order": null,
            "overflow": null,
            "overflow_x": null,
            "overflow_y": null,
            "padding": null,
            "right": null,
            "top": null,
            "visibility": null,
            "width": null
          }
        },
        "057da4db4eb7408688779ff93b42f937": {
          "model_module": "@jupyter-widgets/controls",
          "model_name": "ProgressStyleModel",
          "model_module_version": "1.5.0",
          "state": {
            "_model_module": "@jupyter-widgets/controls",
            "_model_module_version": "1.5.0",
            "_model_name": "ProgressStyleModel",
            "_view_count": null,
            "_view_module": "@jupyter-widgets/base",
            "_view_module_version": "1.2.0",
            "_view_name": "StyleView",
            "bar_color": null,
            "description_width": ""
          }
        },
        "2d0afccd6aad4070b3276edd52798a93": {
          "model_module": "@jupyter-widgets/base",
          "model_name": "LayoutModel",
          "model_module_version": "1.2.0",
          "state": {
            "_model_module": "@jupyter-widgets/base",
            "_model_module_version": "1.2.0",
            "_model_name": "LayoutModel",
            "_view_count": null,
            "_view_module": "@jupyter-widgets/base",
            "_view_module_version": "1.2.0",
            "_view_name": "LayoutView",
            "align_content": null,
            "align_items": null,
            "align_self": null,
            "border": null,
            "bottom": null,
            "display": null,
            "flex": null,
            "flex_flow": null,
            "grid_area": null,
            "grid_auto_columns": null,
            "grid_auto_flow": null,
            "grid_auto_rows": null,
            "grid_column": null,
            "grid_gap": null,
            "grid_row": null,
            "grid_template_areas": null,
            "grid_template_columns": null,
            "grid_template_rows": null,
            "height": null,
            "justify_content": null,
            "justify_items": null,
            "left": null,
            "margin": null,
            "max_height": null,
            "max_width": null,
            "min_height": null,
            "min_width": null,
            "object_fit": null,
            "object_position": null,
            "order": null,
            "overflow": null,
            "overflow_x": null,
            "overflow_y": null,
            "padding": null,
            "right": null,
            "top": null,
            "visibility": null,
            "width": null
          }
        },
        "5f04aad3122c49be962258720fccd3ae": {
          "model_module": "@jupyter-widgets/controls",
          "model_name": "DescriptionStyleModel",
          "model_module_version": "1.5.0",
          "state": {
            "_model_module": "@jupyter-widgets/controls",
            "_model_module_version": "1.5.0",
            "_model_name": "DescriptionStyleModel",
            "_view_count": null,
            "_view_module": "@jupyter-widgets/base",
            "_view_module_version": "1.2.0",
            "_view_name": "StyleView",
            "description_width": ""
          }
        },
        "5ec95a60760d4ee6b245dd5020d296e5": {
          "model_module": "@jupyter-widgets/controls",
          "model_name": "HBoxModel",
          "model_module_version": "1.5.0",
          "state": {
            "_dom_classes": [],
            "_model_module": "@jupyter-widgets/controls",
            "_model_module_version": "1.5.0",
            "_model_name": "HBoxModel",
            "_view_count": null,
            "_view_module": "@jupyter-widgets/controls",
            "_view_module_version": "1.5.0",
            "_view_name": "HBoxView",
            "box_style": "",
            "children": [
              "IPY_MODEL_d69ef763d1e946e3a26f23510fb5f343",
              "IPY_MODEL_ac6ec6ecc7a14c4c81485624d4c7656d",
              "IPY_MODEL_4cd675b3b47741f29a7f5b41b3325e55"
            ],
            "layout": "IPY_MODEL_5d0e3bb4414c42e8a12d587d8bac741e"
          }
        },
        "d69ef763d1e946e3a26f23510fb5f343": {
          "model_module": "@jupyter-widgets/controls",
          "model_name": "HTMLModel",
          "model_module_version": "1.5.0",
          "state": {
            "_dom_classes": [],
            "_model_module": "@jupyter-widgets/controls",
            "_model_module_version": "1.5.0",
            "_model_name": "HTMLModel",
            "_view_count": null,
            "_view_module": "@jupyter-widgets/controls",
            "_view_module_version": "1.5.0",
            "_view_name": "HTMLView",
            "description": "",
            "description_tooltip": null,
            "layout": "IPY_MODEL_9bf33f5741ae46848e7f3dac87cc5533",
            "placeholder": "​",
            "style": "IPY_MODEL_9bdb4f6c8c8048aa9692f412ff2e18f2",
            "value": "Map: 100%"
          }
        },
        "ac6ec6ecc7a14c4c81485624d4c7656d": {
          "model_module": "@jupyter-widgets/controls",
          "model_name": "FloatProgressModel",
          "model_module_version": "1.5.0",
          "state": {
            "_dom_classes": [],
            "_model_module": "@jupyter-widgets/controls",
            "_model_module_version": "1.5.0",
            "_model_name": "FloatProgressModel",
            "_view_count": null,
            "_view_module": "@jupyter-widgets/controls",
            "_view_module_version": "1.5.0",
            "_view_name": "ProgressView",
            "bar_style": "success",
            "description": "",
            "description_tooltip": null,
            "layout": "IPY_MODEL_d0e6c459d629409b8a57ceec2c147a7e",
            "max": 417,
            "min": 0,
            "orientation": "horizontal",
            "style": "IPY_MODEL_51c1fb4830594158a8ea52d97755bed8",
            "value": 417
          }
        },
        "4cd675b3b47741f29a7f5b41b3325e55": {
          "model_module": "@jupyter-widgets/controls",
          "model_name": "HTMLModel",
          "model_module_version": "1.5.0",
          "state": {
            "_dom_classes": [],
            "_model_module": "@jupyter-widgets/controls",
            "_model_module_version": "1.5.0",
            "_model_name": "HTMLModel",
            "_view_count": null,
            "_view_module": "@jupyter-widgets/controls",
            "_view_module_version": "1.5.0",
            "_view_name": "HTMLView",
            "description": "",
            "description_tooltip": null,
            "layout": "IPY_MODEL_6e1b37e9220a478796e81ec7a67ec462",
            "placeholder": "​",
            "style": "IPY_MODEL_ecb8c5524aea4ea59ba69d0deb51b593",
            "value": " 417/417 [00:50&lt;00:00,  1.06 examples/s]"
          }
        },
        "5d0e3bb4414c42e8a12d587d8bac741e": {
          "model_module": "@jupyter-widgets/base",
          "model_name": "LayoutModel",
          "model_module_version": "1.2.0",
          "state": {
            "_model_module": "@jupyter-widgets/base",
            "_model_module_version": "1.2.0",
            "_model_name": "LayoutModel",
            "_view_count": null,
            "_view_module": "@jupyter-widgets/base",
            "_view_module_version": "1.2.0",
            "_view_name": "LayoutView",
            "align_content": null,
            "align_items": null,
            "align_self": null,
            "border": null,
            "bottom": null,
            "display": null,
            "flex": null,
            "flex_flow": null,
            "grid_area": null,
            "grid_auto_columns": null,
            "grid_auto_flow": null,
            "grid_auto_rows": null,
            "grid_column": null,
            "grid_gap": null,
            "grid_row": null,
            "grid_template_areas": null,
            "grid_template_columns": null,
            "grid_template_rows": null,
            "height": null,
            "justify_content": null,
            "justify_items": null,
            "left": null,
            "margin": null,
            "max_height": null,
            "max_width": null,
            "min_height": null,
            "min_width": null,
            "object_fit": null,
            "object_position": null,
            "order": null,
            "overflow": null,
            "overflow_x": null,
            "overflow_y": null,
            "padding": null,
            "right": null,
            "top": null,
            "visibility": null,
            "width": null
          }
        },
        "9bf33f5741ae46848e7f3dac87cc5533": {
          "model_module": "@jupyter-widgets/base",
          "model_name": "LayoutModel",
          "model_module_version": "1.2.0",
          "state": {
            "_model_module": "@jupyter-widgets/base",
            "_model_module_version": "1.2.0",
            "_model_name": "LayoutModel",
            "_view_count": null,
            "_view_module": "@jupyter-widgets/base",
            "_view_module_version": "1.2.0",
            "_view_name": "LayoutView",
            "align_content": null,
            "align_items": null,
            "align_self": null,
            "border": null,
            "bottom": null,
            "display": null,
            "flex": null,
            "flex_flow": null,
            "grid_area": null,
            "grid_auto_columns": null,
            "grid_auto_flow": null,
            "grid_auto_rows": null,
            "grid_column": null,
            "grid_gap": null,
            "grid_row": null,
            "grid_template_areas": null,
            "grid_template_columns": null,
            "grid_template_rows": null,
            "height": null,
            "justify_content": null,
            "justify_items": null,
            "left": null,
            "margin": null,
            "max_height": null,
            "max_width": null,
            "min_height": null,
            "min_width": null,
            "object_fit": null,
            "object_position": null,
            "order": null,
            "overflow": null,
            "overflow_x": null,
            "overflow_y": null,
            "padding": null,
            "right": null,
            "top": null,
            "visibility": null,
            "width": null
          }
        },
        "9bdb4f6c8c8048aa9692f412ff2e18f2": {
          "model_module": "@jupyter-widgets/controls",
          "model_name": "DescriptionStyleModel",
          "model_module_version": "1.5.0",
          "state": {
            "_model_module": "@jupyter-widgets/controls",
            "_model_module_version": "1.5.0",
            "_model_name": "DescriptionStyleModel",
            "_view_count": null,
            "_view_module": "@jupyter-widgets/base",
            "_view_module_version": "1.2.0",
            "_view_name": "StyleView",
            "description_width": ""
          }
        },
        "d0e6c459d629409b8a57ceec2c147a7e": {
          "model_module": "@jupyter-widgets/base",
          "model_name": "LayoutModel",
          "model_module_version": "1.2.0",
          "state": {
            "_model_module": "@jupyter-widgets/base",
            "_model_module_version": "1.2.0",
            "_model_name": "LayoutModel",
            "_view_count": null,
            "_view_module": "@jupyter-widgets/base",
            "_view_module_version": "1.2.0",
            "_view_name": "LayoutView",
            "align_content": null,
            "align_items": null,
            "align_self": null,
            "border": null,
            "bottom": null,
            "display": null,
            "flex": null,
            "flex_flow": null,
            "grid_area": null,
            "grid_auto_columns": null,
            "grid_auto_flow": null,
            "grid_auto_rows": null,
            "grid_column": null,
            "grid_gap": null,
            "grid_row": null,
            "grid_template_areas": null,
            "grid_template_columns": null,
            "grid_template_rows": null,
            "height": null,
            "justify_content": null,
            "justify_items": null,
            "left": null,
            "margin": null,
            "max_height": null,
            "max_width": null,
            "min_height": null,
            "min_width": null,
            "object_fit": null,
            "object_position": null,
            "order": null,
            "overflow": null,
            "overflow_x": null,
            "overflow_y": null,
            "padding": null,
            "right": null,
            "top": null,
            "visibility": null,
            "width": null
          }
        },
        "51c1fb4830594158a8ea52d97755bed8": {
          "model_module": "@jupyter-widgets/controls",
          "model_name": "ProgressStyleModel",
          "model_module_version": "1.5.0",
          "state": {
            "_model_module": "@jupyter-widgets/controls",
            "_model_module_version": "1.5.0",
            "_model_name": "ProgressStyleModel",
            "_view_count": null,
            "_view_module": "@jupyter-widgets/base",
            "_view_module_version": "1.2.0",
            "_view_name": "StyleView",
            "bar_color": null,
            "description_width": ""
          }
        },
        "6e1b37e9220a478796e81ec7a67ec462": {
          "model_module": "@jupyter-widgets/base",
          "model_name": "LayoutModel",
          "model_module_version": "1.2.0",
          "state": {
            "_model_module": "@jupyter-widgets/base",
            "_model_module_version": "1.2.0",
            "_model_name": "LayoutModel",
            "_view_count": null,
            "_view_module": "@jupyter-widgets/base",
            "_view_module_version": "1.2.0",
            "_view_name": "LayoutView",
            "align_content": null,
            "align_items": null,
            "align_self": null,
            "border": null,
            "bottom": null,
            "display": null,
            "flex": null,
            "flex_flow": null,
            "grid_area": null,
            "grid_auto_columns": null,
            "grid_auto_flow": null,
            "grid_auto_rows": null,
            "grid_column": null,
            "grid_gap": null,
            "grid_row": null,
            "grid_template_areas": null,
            "grid_template_columns": null,
            "grid_template_rows": null,
            "height": null,
            "justify_content": null,
            "justify_items": null,
            "left": null,
            "margin": null,
            "max_height": null,
            "max_width": null,
            "min_height": null,
            "min_width": null,
            "object_fit": null,
            "object_position": null,
            "order": null,
            "overflow": null,
            "overflow_x": null,
            "overflow_y": null,
            "padding": null,
            "right": null,
            "top": null,
            "visibility": null,
            "width": null
          }
        },
        "ecb8c5524aea4ea59ba69d0deb51b593": {
          "model_module": "@jupyter-widgets/controls",
          "model_name": "DescriptionStyleModel",
          "model_module_version": "1.5.0",
          "state": {
            "_model_module": "@jupyter-widgets/controls",
            "_model_module_version": "1.5.0",
            "_model_name": "DescriptionStyleModel",
            "_view_count": null,
            "_view_module": "@jupyter-widgets/base",
            "_view_module_version": "1.2.0",
            "_view_name": "StyleView",
            "description_width": ""
          }
        }
      }
    }
  },
  "cells": [
    {
      "cell_type": "markdown",
      "source": [
        "# Learn OpenAI Whisper - Chapter 3\n",
        "\n",
        "## Complementary introduction to audio data processing with Hugging Face and Whisper\n",
        "\n",
        "\n",
        "[![Open In Colab](https://colab.research.google.com/assets/colab-badge.svg)](https://colab.research.google.com/drive/1bIiGyv_YiTdq97a7KrowCceOrZlG2hXL)\n",
        "\n",
        "In this notebook, we'll explore the essentials of working with audio data in Python, leveraging the power of Hugging Face's `datasets` library and OpenAI's Whisper model. Our journey will take us through setting up a Hugging Face account, loading and exploring an audio dataset, preprocessing that dataset to meet the requirements of machine learning models, and finally, transcribing audio to text using the state-of-the-art Whisper model.\n",
        "\n",
        "Audio data processing is a pivotal step in numerous machine learning applications, from developing voice-activated assistants to creating systems capable of understanding and transcribing spoken language in real-time. By the end of this notebook, you'll have a solid foundation in handling audio data, which you can apply to a wide range of natural language processing tasks.\n"
      ],
      "metadata": {
        "id": "fFBjlhsX3lqU"
      }
    },
    {
      "cell_type": "markdown",
      "source": [
        "## Setting up a Hugging Face account\n",
        "\n",
        "To access and utilize the vast array of datasets and machine learning models available on Hugging Face, an account is required. A Hugging Face account offers not just access to datasets like \"PolyAI/minds14\" but also allows for collaboration on projects, contribution to the community through dataset/model sharing, and even tracking progress on various machine learning tasks. Follow the steps outlined above to create your account and get started with Hugging Face.\n",
        "\n",
        "## To create a Hugging Face account, you can follow these simple steps:\n",
        "<img src=\"https://github.com/PacktPublishing/Learn-OpenAI-Whisper/raw/main/Chapter03/hugging_face_join.png\" width=250>\n",
        "\n",
        "1. Go to the Hugging Face website.\n",
        "2. Click on “Sign Up” or go to https://huggingface.co/join\n",
        "3. Enter your email address and password (you can skip the prompt to \"Join organization\").\n",
        "4. If you already have an account, click on “Log in”.\n",
        "5. To interact with the Hub, you need to be logged in with a Hugging Face account.\n",
        "\n",
        "## To create a Hugging Face Access Token\n",
        "<img src=\"https://github.com/PacktPublishing/Learn-OpenAI-Whisper/raw/main/Chapter03/hugging_face_settings_menu_option.png\" width=650>\n",
        "<img src=\"https://github.com/PacktPublishing/Learn-OpenAI-Whisper/raw/main/Chapter03/hugging_face_create_token.png\" width=250>\n",
        "\n",
        "1. Go to the Access Tokens tab in your Hugging Face settings.\n",
        "2. Click on the New token button to create a new User Access Token.\n",
        "3. Select the `write` role and a name for your token. This notebook only needs a `read` role; however, we will be writing to Hugging Face in [Chapter 4](https://colab.research.google.com/drive/1LADNomT0JUBCsopU6r_NsZfOaNiz2N3h).\n",
        "\n",
        "## OPTIONAL: To authenticate your identity using your \"Secrets\" in Colab\n",
        "<img src=\"https://github.com/PacktPublishing/Learn-OpenAI-Whisper/raw/main/Chapter03/hugging_face_token_notebook_access.png\" width=450>\n",
        "\n",
        "1. In your Colab notebook, click on the key icon on the left to add a new secret.\n",
        "2. Set the name of the secret to HF_TOKEN.\n",
        "3. Paste your Hugging Face token value in the Value field.\n",
        "4. Click Add to save the secret.\n",
        "5. Turn ON \"Notebook access\".\n",
        "\n",
        "You can now use the secret token in your Colab notebook to authenticate. Make sure to keep your token private and not share it with anyone else. Happy coding! 😊"
      ],
      "metadata": {
        "id": "VCEKs-Y4wAYQ"
      }
    },
    {
      "cell_type": "markdown",
      "source": [
        "# Load and explore an audio dataset\n",
        "In this section, we dive into loading and exploring an audio dataset using the `datasets` library. Specifically, we're working with the \"PolyAI/minds14\" dataset, a rich collection of audio recordings intended for intent classification tasks—crucial for building voice-operated interfaces and understanding natural language commands. Through the code snippets below, we inspect the dataset's structure, listen to audio samples directly within the notebook, and employ visualization techniques to analyze the audio signals. This hands-on exploration is foundational for grasping the nuances of audio data in machine learning applications.\n"
      ],
      "metadata": {
        "id": "RE6ewF9z4r2l"
      }
    },
    {
      "cell_type": "markdown",
      "source": [
        "### Install datasets library with audio support\n",
        "To begin working with audio datasets, we first need to install the `datasets` library, ensuring we include support for audio data.\n",
        "This is done by specifying `[audio]` after the library name, which installs additional dependencies necessary for audio processing."
      ],
      "metadata": {
        "id": "j4VqBDxt6vEg"
      }
    },
    {
      "cell_type": "code",
      "execution_count": null,
      "metadata": {
        "id": "1B8bm_3ouldO"
      },
      "outputs": [],
      "source": [
        "%%capture\n",
        "!pip install pyarrow==14.0.2\n",
        "!pip install datasets[audio]"
      ]
    },
    {
      "cell_type": "markdown",
      "source": [
        "### Setting environment variables for Hugging Face authentication\n",
        "Next, we set up our environment to authenticate with Hugging Face. This involves storing our Hugging Face API token as an environment variable. This token allows us to access Hugging Face's datasets and models securely.\n",
        "\n",
        "#### Option 1: Authenticate via Huggig Face's notebook_login class by copying the token from the Hugging Face website and pasting it at the prompt:\n",
        "\n",
        "```\n",
        "from huggingface_hub import notebook_login\n",
        "notebook_login()\n",
        "```\n",
        "#### Option 2: You can also authenticate using the Hugging Face's CLI command\n",
        "```\n",
        "!huggingface-cli login\n",
        "```\n",
        "<img src=\"https://github.com/PacktPublishing/Learn-OpenAI-Whisper/raw/main/Chapter03/hugging_face_cli_authenticate.png\" width=850>\n",
        "\n",
        "Run either option 1, or 2, then verify using:\n",
        "```\n",
        "from huggingface_hub import whoami\n",
        "whoami()\n",
        "```\n"
      ],
      "metadata": {
        "id": "hSY7Cv2A61tN"
      }
    },
    {
      "cell_type": "code",
      "source": [
        "# Option 1 - Enter your token in the output prompt below and hit enter on Windows or return on Mac\n",
        "from huggingface_hub import notebook_login\n",
        "notebook_login()"
      ],
      "metadata": {
        "id": "bumGSQCMDizB"
      },
      "execution_count": null,
      "outputs": []
    },
    {
      "cell_type": "code",
      "source": [
        "# Option 2 - Enter your token in the output prompt below and hit enter on Windows or return on Mac\n",
        "!huggingface-cli login"
      ],
      "metadata": {
        "id": "OHNuVY_RTujq",
        "colab": {
          "base_uri": "https://localhost:8080/"
        },
        "outputId": "eaa29b51-19e5-4cb0-afbd-d4210dc925a0"
      },
      "execution_count": null,
      "outputs": [
        {
          "output_type": "stream",
          "name": "stdout",
          "text": [
            "\n",
            "    _|    _|  _|    _|    _|_|_|    _|_|_|  _|_|_|  _|      _|    _|_|_|      _|_|_|_|    _|_|      _|_|_|  _|_|_|_|\n",
            "    _|    _|  _|    _|  _|        _|          _|    _|_|    _|  _|            _|        _|    _|  _|        _|\n",
            "    _|_|_|_|  _|    _|  _|  _|_|  _|  _|_|    _|    _|  _|  _|  _|  _|_|      _|_|_|    _|_|_|_|  _|        _|_|_|\n",
            "    _|    _|  _|    _|  _|    _|  _|    _|    _|    _|    _|_|  _|    _|      _|        _|    _|  _|        _|\n",
            "    _|    _|    _|_|      _|_|_|    _|_|_|  _|_|_|  _|      _|    _|_|_|      _|        _|    _|    _|_|_|  _|_|_|_|\n",
            "\n",
            "    To login, `huggingface_hub` requires a token generated from https://huggingface.co/settings/tokens .\n",
            "Token: \n",
            "Add token as git credential? (Y/n) n\n",
            "Token is valid (permission: write).\n",
            "Your token has been saved to /root/.cache/huggingface/token\n",
            "Login successful\n"
          ]
        }
      ]
    },
    {
      "cell_type": "code",
      "source": [
        "# Verify authentication\n",
        "from huggingface_hub import whoami\n",
        "whoami()\n",
        "# you should see something like {'type': 'user',  'id': '...',  'name': 'Wauplin', ...}"
      ],
      "metadata": {
        "id": "MMHkYq7oF6y4",
        "colab": {
          "base_uri": "https://localhost:8080/"
        },
        "outputId": "5786e2d6-2b79-4075-b3d1-011b409796a8"
      },
      "execution_count": null,
      "outputs": [
        {
          "output_type": "execute_result",
          "data": {
            "text/plain": [
              "{'type': 'user',\n",
              " 'id': '6404c20d3d49e1e066b97c10',\n",
              " 'name': 'jbatista79',\n",
              " 'fullname': 'Josue Batista',\n",
              " 'email': 'josue@josuebatista.com',\n",
              " 'emailVerified': True,\n",
              " 'canPay': False,\n",
              " 'isPro': False,\n",
              " 'periodEnd': None,\n",
              " 'avatarUrl': '/avatars/e686904a94e267b4570907a7e734fbb4.svg',\n",
              " 'orgs': [],\n",
              " 'auth': {'type': 'access_token',\n",
              "  'accessToken': {'displayName': 'Whisper Fine-Tuning', 'role': 'write'}}}"
            ]
          },
          "metadata": {},
          "execution_count": 3
        }
      ]
    },
    {
      "cell_type": "markdown",
      "source": [
        "### Loading the audio dataset\n",
        "Here, we load the \"PolyAI/minds14\" dataset from Hugging Face's datasets library, specifying `en-US` as the language and `train` as the dataset split we wish to load. This dataset is designed for intent classification within spoken language understanding, a critical task in developing conversational AI.\n"
      ],
      "metadata": {
        "id": "9iv2OIvX7RI1"
      }
    },
    {
      "cell_type": "code",
      "source": [
        "from datasets import load_dataset\n",
        "\n",
        "minds = load_dataset(\"PolyAI/minds14\", name=\"en-US\", split=\"train\")\n",
        "minds"
      ],
      "metadata": {
        "id": "j_L1_F8nuohR",
        "colab": {
          "base_uri": "https://localhost:8080/",
          "height": 304,
          "referenced_widgets": [
            "cb2c9f1a4ed64319bc0f5d02e831a921",
            "0d59237689ad4922ba7b5febd440ff82",
            "4e6152b8bd6c4480b429fc7ce56b2841",
            "543a9ff960884adfaf2710a27f5aa515",
            "730a5ea98715476faf1ef5e47836d90c",
            "be1ec3cfa58141d39927ada3e7b72467",
            "fcf3e11b87684cce815b91b702ef963d",
            "9890907f609f4486b705ae47386aa7bc",
            "86717ac6fdd44851a6685d0e69c08a28",
            "28219cac48064bab85a4bf0d3a0f82ea",
            "f35df67965cb445e831f2e226f657b73",
            "7715aa724bf34750af9a878a829b4120",
            "6fc2ff77315947fb8353659cce063f45",
            "73e438eebd214069902cb2fa786741b9",
            "be3761ea8d9f4d50995ff2a92ab7ed04",
            "a962773686e448a0a421f6f6ae7e1a99",
            "6f2e8250438f4aa9806348d6614c4eed",
            "bcc24dbfbf034b83ac8b67213b47e196",
            "633d3e51f5f845f8ad134b91b0f2ec3f",
            "e666c5b7af2e48b1870c27f4c7568998",
            "c348846225334c1c8d6d9bb0d5851bbd",
            "3192d2aa78494fdf92d06c9e9fb3952a",
            "da1afbba67d14a79b3fd48791bf48ffe",
            "7caddeca1eb746da9aff7848d7cd0d74",
            "a9d7e2ce534f4b93b9877e9116cae3df",
            "10a4d8d9d84f4b4db4262540cd84b7e6",
            "0c6f81a54dd24bb2bf93304dd9b4969d",
            "cdb10bfbb8bb4d3fbb6aa5c33e139fe5",
            "ff661b69157444f69e644197cfa3e06a",
            "eedd81bf92f741df9a8ffda2dc6a1896",
            "bf62b15ff7b44982b1aec6dd234ccfc6",
            "37a090ab47aa43588506bb329d2be5bd",
            "53aec59f4ee34f938834181b43e10688",
            "c7f833dc16ac491da5b4926d59918e9e",
            "b5dd8ba994bb4ae6891e36e367c80358",
            "441cfee9749b4983bd294723ae1b5b4e",
            "a2be885d1a6e49859039dfabf79e46f3",
            "dd05bf24f5424cc0ae8cc1e6009ba752",
            "e7c951885f8d41ac923e3d80e0c8f583",
            "e4f53523206f4ff08ab6f1f1fc254d7e",
            "bd570281abc74449a8253743293348f1",
            "4cdf57a23cdd42fcafda187247f77253",
            "6c7e3a879d4a46aca367187e64a0cda8",
            "b38842241bd042faa7991e6cc7d69fdf"
          ]
        },
        "outputId": "43218cef-9640-42be-fe83-6d343ec6baf1"
      },
      "execution_count": null,
      "outputs": [
        {
          "output_type": "stream",
          "name": "stderr",
          "text": [
            "/usr/local/lib/python3.10/dist-packages/datasets/load.py:1461: FutureWarning: The repository for PolyAI/minds14 contains custom code which must be executed to correctly load the dataset. You can inspect the repository content at https://hf.co/datasets/PolyAI/minds14\n",
            "You can avoid this message in future by passing the argument `trust_remote_code=True`.\n",
            "Passing `trust_remote_code=True` will be mandatory to load this dataset from the next major release of `datasets`.\n",
            "  warnings.warn(\n"
          ]
        },
        {
          "output_type": "display_data",
          "data": {
            "text/plain": [
              "Downloading builder script:   0%|          | 0.00/5.90k [00:00<?, ?B/s]"
            ],
            "application/vnd.jupyter.widget-view+json": {
              "version_major": 2,
              "version_minor": 0,
              "model_id": "cb2c9f1a4ed64319bc0f5d02e831a921"
            }
          },
          "metadata": {}
        },
        {
          "output_type": "display_data",
          "data": {
            "text/plain": [
              "Downloading readme:   0%|          | 0.00/5.29k [00:00<?, ?B/s]"
            ],
            "application/vnd.jupyter.widget-view+json": {
              "version_major": 2,
              "version_minor": 0,
              "model_id": "7715aa724bf34750af9a878a829b4120"
            }
          },
          "metadata": {}
        },
        {
          "output_type": "display_data",
          "data": {
            "text/plain": [
              "Downloading data:   0%|          | 0.00/471M [00:00<?, ?B/s]"
            ],
            "application/vnd.jupyter.widget-view+json": {
              "version_major": 2,
              "version_minor": 0,
              "model_id": "da1afbba67d14a79b3fd48791bf48ffe"
            }
          },
          "metadata": {}
        },
        {
          "output_type": "display_data",
          "data": {
            "text/plain": [
              "Generating train split: 0 examples [00:00, ? examples/s]"
            ],
            "application/vnd.jupyter.widget-view+json": {
              "version_major": 2,
              "version_minor": 0,
              "model_id": "c7f833dc16ac491da5b4926d59918e9e"
            }
          },
          "metadata": {}
        },
        {
          "output_type": "execute_result",
          "data": {
            "text/plain": [
              "Dataset({\n",
              "    features: ['path', 'audio', 'transcription', 'english_transcription', 'intent_class', 'lang_id'],\n",
              "    num_rows: 563\n",
              "})"
            ]
          },
          "metadata": {},
          "execution_count": 4
        }
      ]
    },
    {
      "cell_type": "markdown",
      "source": [
        "### Displaying an example entry from the dataset\n",
        "To get a feel for the dataset's structure, we display the first entry. This gives us insight into the data's format, including the audio file's properties and any associated metadata, such as the transcription and intent classification."
      ],
      "metadata": {
        "id": "SEid7sQU7XWg"
      }
    },
    {
      "cell_type": "code",
      "source": [
        "example = minds[0]\n",
        "for key, value in example.items():\n",
        "    print(f\"{key}: {value}\")"
      ],
      "metadata": {
        "id": "uHbT76n_7amq",
        "colab": {
          "base_uri": "https://localhost:8080/"
        },
        "outputId": "c823244b-0f50-44ed-fa9a-9393c90d8da6"
      },
      "execution_count": null,
      "outputs": [
        {
          "output_type": "stream",
          "name": "stdout",
          "text": [
            "path: /root/.cache/huggingface/datasets/downloads/extracted/28aa727f91fee90575c34956bab09d1716cfaf460c6afcba86a10f04a7d58b83/en-US~JOINT_ACCOUNT/602ba55abb1e6d0fbce92065.wav\n",
            "audio: {'path': '/root/.cache/huggingface/datasets/downloads/extracted/28aa727f91fee90575c34956bab09d1716cfaf460c6afcba86a10f04a7d58b83/en-US~JOINT_ACCOUNT/602ba55abb1e6d0fbce92065.wav', 'array': array([ 0.        ,  0.00024414, -0.00024414, ..., -0.00024414,\n",
            "        0.        ,  0.        ]), 'sampling_rate': 8000}\n",
            "transcription: I would like to set up a joint account with my partner\n",
            "english_transcription: I would like to set up a joint account with my partner\n",
            "intent_class: 11\n",
            "lang_id: 4\n"
          ]
        }
      ]
    },
    {
      "cell_type": "markdown",
      "source": [
        "### Mapping intent class IDs to descriptive labels\n",
        "This dataset includes numerical identifiers for intent classes. To make these identifiers more understandable, we map them to their descriptive labels, making it easier to interpret the data."
      ],
      "metadata": {
        "id": "1Y4DybQT7f_K"
      }
    },
    {
      "cell_type": "code",
      "source": [
        "id2label = minds.features[\"intent_class\"].int2str\n",
        "id2label(example[\"intent_class\"])"
      ],
      "metadata": {
        "id": "RRko_mDI7jVa",
        "colab": {
          "base_uri": "https://localhost:8080/",
          "height": 35
        },
        "outputId": "3c9ec260-faa0-49b2-8ac8-2f78e6402448"
      },
      "execution_count": null,
      "outputs": [
        {
          "output_type": "execute_result",
          "data": {
            "text/plain": [
              "'joint_account'"
            ],
            "application/vnd.google.colaboratory.intrinsic+json": {
              "type": "string"
            }
          },
          "metadata": {},
          "execution_count": 6
        }
      ]
    },
    {
      "cell_type": "markdown",
      "source": [
        "### Removing unnecessary columns from the dataset\n",
        "To streamline our dataset for analysis, we remove columns that are not needed for our current task, such as `lang_id` and `english_transcription`. This simplifies the dataset, focusing on the audio data and intent labels.\n"
      ],
      "metadata": {
        "id": "dx5Nfecu7vah"
      }
    },
    {
      "cell_type": "code",
      "source": [
        "columns_to_remove = [\"lang_id\", \"english_transcription\"]\n",
        "minds = minds.remove_columns(columns_to_remove)"
      ],
      "metadata": {
        "id": "efg2k3oK7zHJ"
      },
      "execution_count": null,
      "outputs": []
    },
    {
      "cell_type": "markdown",
      "source": [
        "### Listening to an audio sample\n",
        "\n",
        "Now that we've loaded and inspected the dataset, let's listen to an audio example. This helps us understand the quality and content of the audio data we'll be working with."
      ],
      "metadata": {
        "id": "f7ZajJclyiMf"
      }
    },
    {
      "cell_type": "code",
      "source": [
        "from IPython.display import Audio\n",
        "\n",
        "example = minds[6]\n",
        "wav_array = example[\"audio\"][\"array\"]\n",
        "sampling_rate = example[\"audio\"][\"sampling_rate\"]\n",
        "\n",
        "Audio(data=wav_array, rate=sampling_rate)"
      ],
      "metadata": {
        "id": "kXGqdrFP3a1B",
        "colab": {
          "base_uri": "https://localhost:8080/",
          "height": 75
        },
        "outputId": "b6b98558-87e3-4358-d9dd-b14ad2e247eb"
      },
      "execution_count": null,
      "outputs": [
        {
          "output_type": "execute_result",
          "data": {
            "text/plain": [
              "<IPython.lib.display.Audio object>"
            ],
            "text/html": [
              "\n",
              "                <audio  controls=\"controls\" >\n",
              "                    <source src=\"data:audio/wav;base64,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\" type=\"audio/wav\" />\n",
              "                    Your browser does not support the audio element.\n",
              "                </audio>\n",
              "              "
            ]
          },
          "metadata": {},
          "execution_count": 8
        }
      ]
    },
    {
      "cell_type": "markdown",
      "source": [
        "### Visualizing an audio signal\n",
        "Visualizing audio signals can provide valuable insights into their characteristics. Here, we plot the waveform of an audio sample, helping us to observe its amplitude variations over time. This visual representation is useful for understanding the audio data's structure and identifying patterns."
      ],
      "metadata": {
        "id": "2GfSJ9wd8KYw"
      }
    },
    {
      "cell_type": "code",
      "source": [
        "import librosa\n",
        "import matplotlib.pyplot as plt\n",
        "import librosa.display\n",
        "\n",
        "array = example[\"audio\"][\"array\"]\n",
        "sampling_rate = example[\"audio\"][\"sampling_rate\"]\n",
        "\n",
        "plt.figure().set_figwidth(12)\n",
        "librosa.display.waveshow(array, sr=sampling_rate)"
      ],
      "metadata": {
        "id": "vWU6HtHH09Ok",
        "colab": {
          "base_uri": "https://localhost:8080/",
          "height": 466
        },
        "outputId": "cd11ad16-58ee-4169-8bec-a1f348dd10d2"
      },
      "execution_count": null,
      "outputs": [
        {
          "output_type": "execute_result",
          "data": {
            "text/plain": [
              "<librosa.display.AdaptiveWaveplot at 0x7d91aa72fbe0>"
            ]
          },
          "metadata": {},
          "execution_count": 9
        },
        {
          "output_type": "display_data",
          "data": {
            "text/plain": [
              "<Figure size 1200x480 with 1 Axes>"
            ],
            "image/png": "[encoded data removed]"
          },
          "metadata": {}
        }
      ]
    },
    {
      "cell_type": "markdown",
      "source": [
        "# Preprocessing the audio dataset for machine learning\n",
        "\n",
        "Before feeding audio data into machine learning models, it's essential to preprocess it. This section outlines the preprocessing steps necessary to transform the audio data into a format suitable for analysis and modeling. We'll cover casting the audio data to a consistent format, filtering recordings based on their duration to maintain uniformity, and extracting features that models can interpret. These preprocessing steps are vital for ensuring the quality and consistency of the input data, directly impacting the effectiveness of machine learning algorithms.\n"
      ],
      "metadata": {
        "id": "foY6E06WgsdQ"
      }
    },
    {
      "cell_type": "markdown",
      "source": [
        "### Cast audio column to uniform format\n",
        "To ensure that all audio data within our dataset adheres to a uniform format, we cast the `audio` column to a specific configuration using Hugging Face's `datasets` library. This step is crucial for maintaining consistency, especially when dealing with datasets that might contain audio files in various formats or sampling rates. Here, we standardize the audio data to a sampling rate of 16,000 Hz, which is a common rate used in speech recognition systems.\n"
      ],
      "metadata": {
        "id": "pOUDSjLX_Hoy"
      }
    },
    {
      "cell_type": "code",
      "source": [
        "from datasets import Audio\n",
        "\n",
        "minds = minds.cast_column(\"audio\", Audio(sampling_rate=16000))"
      ],
      "metadata": {
        "id": "vVM1MlHg8F1Z"
      },
      "execution_count": null,
      "outputs": []
    },
    {
      "cell_type": "markdown",
      "source": [
        "### Filter out long audio files\n",
        "In speech and audio processing tasks, it's often beneficial to work with audio files of a consistent duration. Longer audio files can be problematic due to increased computational requirements and potential irrelevance of parts of the audio. Here, we define a function to check if the audio's length is within a specified maximum duration. This function will later be used to filter out any audio files exceeding our defined maximum length, ensuring a more uniform dataset conducive to efficient processing."
      ],
      "metadata": {
        "id": "uMhAbmGL_QKx"
      }
    },
    {
      "cell_type": "code",
      "source": [
        "MAX_DURATION_IN_SECONDS = 10.0\n",
        "\n",
        "def is_audio_length_in_range(input_length):\n",
        "    return input_length < MAX_DURATION_IN_SECONDS"
      ],
      "metadata": {
        "id": "TZRBIfIP9QI6"
      },
      "execution_count": null,
      "outputs": []
    },
    {
      "cell_type": "code",
      "source": [
        "new_column = []\n",
        "\n",
        "for i, example in enumerate(minds):\n",
        "    # print(i)\n",
        "    # print(example[\"audio\"][\"path\"])\n",
        "    audio_array = example[\"audio\"][\"array\"]\n",
        "    sr = example[\"audio\"][\"sampling_rate\"]\n",
        "    duration = librosa.get_duration(y=audio_array, sr=sr)\n",
        "    new_column.append(duration)\n",
        "    # print(f\"{duration:.2f}s\")\n",
        "    # if i == 5:\n",
        "    #     break\n",
        "\n",
        "minds = minds.add_column(\"duration\", new_column)\n",
        "# Printing the duration for 5 audio samples\n",
        "for i, example in enumerate(minds):\n",
        "    # print(i)\n",
        "    # print(example[\"audio\"][\"path\"])\n",
        "    print(example[\"path\"])\n",
        "    print(example[\"duration\"])\n",
        "    if i == 5:\n",
        "        break"
      ],
      "metadata": {
        "id": "Pt9I2KqCYroC",
        "colab": {
          "base_uri": "https://localhost:8080/"
        },
        "outputId": "0a2e2d6d-f8dd-44e0-c621-b1a8745496ed"
      },
      "execution_count": null,
      "outputs": [
        {
          "output_type": "stream",
          "name": "stdout",
          "text": [
            "/root/.cache/huggingface/datasets/downloads/extracted/28aa727f91fee90575c34956bab09d1716cfaf460c6afcba86a10f04a7d58b83/en-US~JOINT_ACCOUNT/602ba55abb1e6d0fbce92065.wav\n",
            "10.837375\n",
            "/root/.cache/huggingface/datasets/downloads/extracted/28aa727f91fee90575c34956bab09d1716cfaf460c6afcba86a10f04a7d58b83/en-US~JOINT_ACCOUNT/602baf24bb1e6d0fbce922a7.wav\n",
            "6.656\n",
            "/root/.cache/huggingface/datasets/downloads/extracted/28aa727f91fee90575c34956bab09d1716cfaf460c6afcba86a10f04a7d58b83/en-US~JOINT_ACCOUNT/602b9f97963e11ccd901cc32.wav\n",
            "24.234625\n",
            "/root/.cache/huggingface/datasets/downloads/extracted/28aa727f91fee90575c34956bab09d1716cfaf460c6afcba86a10f04a7d58b83/en-US~JOINT_ACCOUNT/602bacab5f67b421554f6488.wav\n",
            "3.242625\n",
            "/root/.cache/huggingface/datasets/downloads/extracted/28aa727f91fee90575c34956bab09d1716cfaf460c6afcba86a10f04a7d58b83/en-US~JOINT_ACCOUNT/602b9d4cbb1e6d0fbce91fa4.wav\n",
            "3.84\n",
            "/root/.cache/huggingface/datasets/downloads/extracted/28aa727f91fee90575c34956bab09d1716cfaf460c6afcba86a10f04a7d58b83/en-US~JOINT_ACCOUNT/602bafa0bb1e6d0fbce922c7.wav\n",
            "4.551125\n"
          ]
        }
      ]
    },
    {
      "cell_type": "markdown",
      "source": [
        "### Apply length filter to dataset\n",
        "With our length filter function defined, we now apply it to our dataset. Using the `filter` method provided by the `datasets` library, we can efficiently remove entries that don't meet our duration criteria. This step iterates through the dataset, applying our `is_audio_length_in_range` function to each entry and retaining only those that fit within our specified maximum duration. This filtering process is a key step in preparing our dataset for subsequent analysis and modeling.\n"
      ],
      "metadata": {
        "id": "CeCDiNic_xDa"
      }
    },
    {
      "cell_type": "code",
      "source": [
        "# use 🤗 Datasets' `filter` method to apply the filtering function\n",
        "minds = minds.filter(is_audio_length_in_range, input_columns=[\"duration\"])\n",
        "\n",
        "# remove the temporary helper column\n",
        "minds = minds.remove_columns([\"duration\"])\n",
        "minds"
      ],
      "metadata": {
        "id": "6ToNuFgm9UG4",
        "colab": {
          "base_uri": "https://localhost:8080/",
          "height": 118,
          "referenced_widgets": [
            "7f6a2b6202c4412c9574538006e68fcb",
            "d014dbaa21274809855052a887a6f10a",
            "ab9a92af54cd408989650e47aef3fb3a",
            "2618b8658e75416d9566c4ad8714c3db",
            "3f02196ca9954414ac55e2fb8d366ffb",
            "be5f2f25fa084050add7bfa686e46b4c",
            "067123c1fb3d41e59166b430172099d5",
            "0d2e97f81a234caba64a0b4e16c7a589",
            "7632ca4fcfeb449ba92071e3d577bfd0",
            "2f5f4bd95e354ae083fa8e609248f27e",
            "202572c5d12941bc8297e835f1b59a70"
          ]
        },
        "outputId": "52b5779d-7873-4b9c-f0f9-859c85b3cd66"
      },
      "execution_count": null,
      "outputs": [
        {
          "output_type": "display_data",
          "data": {
            "text/plain": [
              "Filter:   0%|          | 0/563 [00:00<?, ? examples/s]"
            ],
            "application/vnd.jupyter.widget-view+json": {
              "version_major": 2,
              "version_minor": 0,
              "model_id": "7f6a2b6202c4412c9574538006e68fcb"
            }
          },
          "metadata": {}
        },
        {
          "output_type": "execute_result",
          "data": {
            "text/plain": [
              "Dataset({\n",
              "    features: ['path', 'audio', 'transcription', 'intent_class'],\n",
              "    num_rows: 417\n",
              "})"
            ]
          },
          "metadata": {},
          "execution_count": 13
        }
      ]
    },
    {
      "cell_type": "markdown",
      "source": [
        "### Feature extraction with WhisperFeatureExtractor\n",
        "Before we can transcribe audio data or use it for training machine learning models, we often need to extract relevant features from the raw audio. This process transforms audio data into a format that models can more easily interpret. Here, we utilize the `WhisperFeatureExtractor` from the `transformers` library to prepare our dataset for the Whisper model. The feature extractor standardizes the audio data, ensuring it's in the correct format and sampling rate expected by Whisper for efficient transcription."
      ],
      "metadata": {
        "id": "x1FoXNdk_ew1"
      }
    },
    {
      "cell_type": "code",
      "source": [
        "from transformers import WhisperFeatureExtractor\n",
        "\n",
        "feature_extractor = WhisperFeatureExtractor.from_pretrained(\"openai/whisper-small\")"
      ],
      "metadata": {
        "id": "gjGV9FnB7a0q",
        "colab": {
          "base_uri": "https://localhost:8080/",
          "height": 49,
          "referenced_widgets": [
            "5fce160bea674c0b91e502054935c428",
            "e9ddc55420d7487e8b78f188cd6f3b63",
            "8a413439bcc84b9cb18cc79f58f645a1",
            "d8c9fd7beaab418eb39589db8ec9da67",
            "643baf1b7c044b7dad040955d25359a0",
            "7a1b4ae862894d34955c6f22e6aca895",
            "fb6ebed185064b41ad73eb08cb0fc8de",
            "6cebbfefa9bd4acf855c662df9ece6e9",
            "057da4db4eb7408688779ff93b42f937",
            "2d0afccd6aad4070b3276edd52798a93",
            "5f04aad3122c49be962258720fccd3ae"
          ]
        },
        "outputId": "b49a8f91-cdcf-40a9-81aa-7684377d63fb"
      },
      "execution_count": null,
      "outputs": [
        {
          "output_type": "display_data",
          "data": {
            "text/plain": [
              "preprocessor_config.json:   0%|          | 0.00/185k [00:00<?, ?B/s]"
            ],
            "application/vnd.jupyter.widget-view+json": {
              "version_major": 2,
              "version_minor": 0,
              "model_id": "5fce160bea674c0b91e502054935c428"
            }
          },
          "metadata": {}
        }
      ]
    },
    {
      "cell_type": "markdown",
      "source": [
        "### Prepare dataset for Whisper model\n",
        "To process our audio data with the Whisper model, we must first prepare it according to the model's requirements. This involves applying the `WhisperFeatureExtractor` to each audio file in our dataset. We define a `prepare_dataset` function that takes an example from our dataset, extracts its audio, and then applies the feature extractor. This function is mapped over the entire dataset, transforming each audio file into a format suitable for transcription with Whisper. This step is crucial for leveraging Whisper's capabilities to transcribe or analyze our audio data.\n"
      ],
      "metadata": {
        "id": "f9fYO2yAAAh7"
      }
    },
    {
      "cell_type": "code",
      "source": [
        "def prepare_dataset(example):\n",
        "    audio = example[\"audio\"]\n",
        "    features = feature_extractor(\n",
        "        audio[\"array\"], sampling_rate=audio[\"sampling_rate\"], padding=True\n",
        "    )\n",
        "    return features"
      ],
      "metadata": {
        "id": "SwMbnwit7h3A"
      },
      "execution_count": null,
      "outputs": []
    },
    {
      "cell_type": "code",
      "source": [
        "minds = minds.map(prepare_dataset)\n",
        "minds"
      ],
      "metadata": {
        "id": "vA8REAyC7nVJ",
        "colab": {
          "base_uri": "https://localhost:8080/",
          "height": 118,
          "referenced_widgets": [
            "5ec95a60760d4ee6b245dd5020d296e5",
            "d69ef763d1e946e3a26f23510fb5f343",
            "ac6ec6ecc7a14c4c81485624d4c7656d",
            "4cd675b3b47741f29a7f5b41b3325e55",
            "5d0e3bb4414c42e8a12d587d8bac741e",
            "9bf33f5741ae46848e7f3dac87cc5533",
            "9bdb4f6c8c8048aa9692f412ff2e18f2",
            "d0e6c459d629409b8a57ceec2c147a7e",
            "51c1fb4830594158a8ea52d97755bed8",
            "6e1b37e9220a478796e81ec7a67ec462",
            "ecb8c5524aea4ea59ba69d0deb51b593"
          ]
        },
        "outputId": "66bd1544-8254-40ac-ae7f-e0e77f505a0f"
      },
      "execution_count": null,
      "outputs": [
        {
          "output_type": "display_data",
          "data": {
            "text/plain": [
              "Map:   0%|          | 0/417 [00:00<?, ? examples/s]"
            ],
            "application/vnd.jupyter.widget-view+json": {
              "version_major": 2,
              "version_minor": 0,
              "model_id": "5ec95a60760d4ee6b245dd5020d296e5"
            }
          },
          "metadata": {}
        },
        {
          "output_type": "execute_result",
          "data": {
            "text/plain": [
              "Dataset({\n",
              "    features: ['path', 'audio', 'transcription', 'intent_class', 'input_features'],\n",
              "    num_rows: 417\n",
              "})"
            ]
          },
          "metadata": {},
          "execution_count": 16
        }
      ]
    },
    {
      "cell_type": "markdown",
      "source": [
        "### Visualizing preprocessed audio features\n",
        "After preprocessing our audio data, it's helpful to visualize the resulting features to understand what the Whisper model will \"see\" when analyzing the audio. Here, we select an example from our preprocessed dataset and plot its features. This visualization can give us insight into the nature of the transformations applied by the `WhisperFeatureExtractor` and how they might influence the model's performance on our audio data.\n"
      ],
      "metadata": {
        "id": "hZziQfd0AOKz"
      }
    },
    {
      "cell_type": "code",
      "source": [
        "import numpy as np\n",
        "import librosa\n",
        "import librosa.display\n",
        "import matplotlib.pyplot as plt\n",
        "\n",
        "example = minds[0]\n",
        "input_features = example[\"input_features\"]\n",
        "\n",
        "plt.figure(figsize=(12, 8))\n",
        "librosa.display.specshow(\n",
        "    np.asarray(input_features[0]),\n",
        "    x_axis=\"time\",\n",
        "    y_axis=\"mel\",\n",
        "    sr=feature_extractor.sampling_rate,\n",
        "    hop_length=feature_extractor.hop_length,\n",
        ")\n",
        "\n",
        "plt.colorbar(format='%+2.0f dB')\n",
        "plt.xlabel('Time')  # Setting x-axis label\n",
        "plt.ylabel('Mel Frequency')  # Setting y-axis label\n",
        "plt.title('Mel Spectrogram')  # Optionally, add a title\n",
        "plt.show()"
      ],
      "metadata": {
        "id": "vLHJ9_zB7F-7",
        "colab": {
          "base_uri": "https://localhost:8080/",
          "height": 718
        },
        "outputId": "3f0d6ed8-5bc4-49da-ef99-79c720617179"
      },
      "execution_count": null,
      "outputs": [
        {
          "output_type": "display_data",
          "data": {
            "text/plain": [
              "<Figure size 1200x800 with 2 Axes>"
            ],
            "image/png": "[encoded data removed]"
          },
          "metadata": {}
        }
      ]
    },
    {
      "cell_type": "code",
      "source": [
        "example = minds[0]\n",
        "for key, value in example.items():\n",
        "    if key == 'input_features':  # Skip 'input_features'\n",
        "        continue\n",
        "    print(f\"{key}: {value}\")"
      ],
      "metadata": {
        "id": "ZJKWsTMafwvq",
        "colab": {
          "base_uri": "https://localhost:8080/"
        },
        "outputId": "8d4697ad-6635-4346-f354-72fdd877355c"
      },
      "execution_count": null,
      "outputs": [
        {
          "output_type": "stream",
          "name": "stdout",
          "text": [
            "path: /root/.cache/huggingface/datasets/downloads/extracted/28aa727f91fee90575c34956bab09d1716cfaf460c6afcba86a10f04a7d58b83/en-US~JOINT_ACCOUNT/602baf24bb1e6d0fbce922a7.wav\n",
            "audio: {'path': None, 'array': array([-3.05175781e-05,  1.22070312e-04,  2.44140625e-04, ...,\n",
            "        1.30310059e-02,  1.11389160e-02,  5.67626953e-03]), 'sampling_rate': 16000}\n",
            "transcription: Henry County set up a joint account with my wife and where are they at\n",
            "intent_class: 11\n"
          ]
        }
      ]
    },
    {
      "cell_type": "markdown",
      "source": [
        "# Leveraging Whisper for audio to text transcription\n",
        "\n",
        "OpenAI's Whisper model represents a breakthrough in audio to text transcription technology, offering a powerful tool for converting spoken language into written text. This section guides you through the process of using the Whisper model to transcribe audio data. We'll explore two approaches: one using raw numpy arrays and another utilizing WAV files. By understanding these methods, you'll be equipped to transcribe audio data efficiently, a skill applicable in various domains, including voice recognition and natural language understanding.\n",
        "\n",
        "To transcribe audio to text using OpenAI's Whisper model, you'll first need to ensure you have Whisper installed and then proceed with the Python code to load and transcribe the audio.\n",
        "\n",
        "### Step 1: Install Whisper\n",
        "\n",
        "First, ensure that you have OpenAI's Whisper installed:"
      ],
      "metadata": {
        "id": "XxqYaP5WOijy"
      }
    },
    {
      "cell_type": "code",
      "source": [
        "%%capture\n",
        "!pip install -q cohere openai tiktoken\n",
        "!pip install -q git+https://github.com/openai/whisper.git"
      ],
      "metadata": {
        "id": "f2ieuqiJSVLD"
      },
      "execution_count": null,
      "outputs": []
    },
    {
      "cell_type": "markdown",
      "source": [
        "\n",
        "### Step 2: Load your audio data\n",
        "\n",
        "Let's use audio data from the `example` dataset, loaded into `wav_array` with a sampling rate defined as `sampling_rate`. This is great because Whisper needs the audio data in a format it can process."
      ],
      "metadata": {
        "id": "tGlhK-3jO8Ak"
      }
    },
    {
      "cell_type": "code",
      "source": [
        "from IPython.display import Audio\n",
        "\n",
        "example = minds[200]\n",
        "wav_array = example[\"audio\"][\"array\"]\n",
        "sampling_rate = example[\"audio\"][\"sampling_rate\"]\n",
        "\n",
        "Audio(data=wav_array, rate=sampling_rate)"
      ],
      "metadata": {
        "id": "HwjJNp2Sf2F6"
      },
      "execution_count": null,
      "outputs": []
    },
    {
      "cell_type": "markdown",
      "source": [
        "\n",
        "### Step 3a: Transcribe audio to text using numpy and Whisper\n",
        "\n",
        "In this example, audio data is converted to float32 before passing it to the model.transcribe() function. Here's how you can do it:"
      ],
      "metadata": {
        "id": "xODbkhLMPWn0"
      }
    },
    {
      "cell_type": "code",
      "source": [
        "# NLTK helps to split the transcription sentence by sentence\n",
        "# and shows it in a neat manner one below another. You will see it in the output below.\n",
        "\n",
        "import nltk\n",
        "nltk.download('punkt')\n",
        "from nltk import sent_tokenize"
      ],
      "metadata": {
        "id": "I0kHXcHTLoAA"
      },
      "execution_count": null,
      "outputs": []
    },
    {
      "cell_type": "code",
      "source": [
        "import whisper\n",
        "import numpy as np\n",
        "\n",
        "# Assuming wav_array is your audio data and sampling_rate is defined\n",
        "\n",
        "# Convert wav_array to float32\n",
        "wav_array = wav_array.astype(np.float32)\n",
        "\n",
        "# Initialize the Whisper model\n",
        "model = whisper.load_model(\"small\")  # Adjust model size as needed\n",
        "\n",
        "# Transcribe the audio\n",
        "result = model.transcribe(audio=wav_array)\n",
        "\n",
        "# Display the transcription\n",
        "print(\"Transcription:\")\n",
        "for sent in sent_tokenize(result['text']):\n",
        "  print(sent)"
      ],
      "metadata": {
        "id": "gdbpEFpVLEjI"
      },
      "execution_count": null,
      "outputs": []
    },
    {
      "cell_type": "markdown",
      "source": [
        "### Step 3b: Transcribe audio to text using WAV file and Whisper\n",
        "\n",
        "In this example, we save the wav_array to a .wav file before transcribing. Here's how you can do it:"
      ],
      "metadata": {
        "id": "WrAEPCJiQ6CU"
      }
    },
    {
      "cell_type": "code",
      "source": [
        "import soundfile as sf\n",
        "\n",
        "# Save your wav_array to a file\n",
        "sf.write('temp_audio.wav', wav_array, sampling_rate)\n",
        "\n",
        "# Now transcribe the saved audio file\n",
        "result = model.transcribe('temp_audio.wav')\n",
        "\n",
        "# Print the transcription\n",
        "print(\"Transcription:\")\n",
        "for sent in sent_tokenize(result['text']):\n",
        "  print(sent)"
      ],
      "metadata": {
        "id": "PvDSKkjjKvaC"
      },
      "execution_count": null,
      "outputs": []
    },
    {
      "cell_type": "markdown",
      "source": [
        "# Gratitude\n",
        "\n",
        "Many thanks to Naval Katoch for his valuable insights."
      ],
      "metadata": {
        "id": "1_qasqaAKHPR"
      }
    }
  ]
}