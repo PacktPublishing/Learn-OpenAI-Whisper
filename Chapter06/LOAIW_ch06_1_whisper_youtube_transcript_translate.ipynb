{
  "nbformat": 4,
  "nbformat_minor": 0,
  "metadata": {
    "colab": {
      "provenance": []
    },
    "kernelspec": {
      "name": "python3",
      "display_name": "Python 3"
    },
    "language_info": {
      "name": "python"
    },
    "widgets": {
      "application/vnd.jupyter.widget-state+json": {
        "93088d47f6574dd09f35047726181121": {
          "model_module": "@jupyter-widgets/controls",
          "model_name": "AudioModel",
          "model_module_version": "1.5.0",
          "state": {
            "_dom_classes": [],
            "_model_module": "@jupyter-widgets/controls",
            "_model_module_version": "1.5.0",
            "_model_name": "AudioModel",
            "_view_count": null,
            "_view_module": "@jupyter-widgets/controls",
            "_view_module_version": "1.5.0",
            "_view_name": "AudioView",
            "autoplay": false,
            "controls": true,
            "format": "mp3",
            "layout": "IPY_MODEL_d28987f3a98d46959aebdb79fd8b5ce8",
            "loop": false
          }
        },
        "d28987f3a98d46959aebdb79fd8b5ce8": {
          "model_module": "@jupyter-widgets/base",
          "model_name": "LayoutModel",
          "model_module_version": "1.2.0",
          "state": {
            "_model_module": "@jupyter-widgets/base",
            "_model_module_version": "1.2.0",
            "_model_name": "LayoutModel",
            "_view_count": null,
            "_view_module": "@jupyter-widgets/base",
            "_view_module_version": "1.2.0",
            "_view_name": "LayoutView",
            "align_content": null,
            "align_items": null,
            "align_self": null,
            "border": null,
            "bottom": null,
            "display": null,
            "flex": null,
            "flex_flow": null,
            "grid_area": null,
            "grid_auto_columns": null,
            "grid_auto_flow": null,
            "grid_auto_rows": null,
            "grid_column": null,
            "grid_gap": null,
            "grid_row": null,
            "grid_template_areas": null,
            "grid_template_columns": null,
            "grid_template_rows": null,
            "height": null,
            "justify_content": null,
            "justify_items": null,
            "left": null,
            "margin": null,
            "max_height": null,
            "max_width": null,
            "min_height": null,
            "min_width": null,
            "object_fit": null,
            "object_position": null,
            "order": null,
            "overflow": null,
            "overflow_x": null,
            "overflow_y": null,
            "padding": null,
            "right": null,
            "top": null,
            "visibility": null,
            "width": null
          }
        }
      }
    }
  },
  "cells": [
    {
      "cell_type": "markdown",
      "source": [
        "# Using Whisper for transcription and translation\n",
        "This notebook provides a simple template for using OpenAI's Whisper for audio transcription in Google Colab.\n",
        "\n",
        "[![Open In Colab](https://colab.research.google.com/assets/colab-badge.svg)](https://colab.research.google.com/drive/1NhpG_iZSRxbENy8yXm5exiXyHcBIG34A)\n",
        "## Install Whisper\n",
        "Run the cell below to install Whisper.\n",
        "\n",
        "The Python libraries `openai`, `cohere`, and `tiktoken` are also installed because of dependencies for the `llmx` library. That is because `llmx` relies on them to function correctly. Each of these libraries provides specific functionalities that `llmx` uses.\n",
        "\n",
        "1. `openai`: This is the official Python library for the OpenAI API. It provides convenient access to the OpenAI REST API from any Python 3.7+ application. The library includes type definitions for all request parameters and response fields, and offers both synchronous and asynchronous clients powered by `httpx`.\n",
        "\n",
        "2. `cohere`: The Cohere platform builds natural language processing and generation into your product with a few lines of code. It can solve a broad spectrum of natural language use cases, including classification, semantic search, paraphrasing, summarization, and content generation.\n",
        "\n",
        "3. `tiktoken`: This is a fast Byte Pair Encoding (BPE) tokenizer for use with OpenAI's models. It's used to tokenize text into subwords, a necessary step before feeding text into many modern language models."
      ],
      "metadata": {
        "id": "w2wt2RJygcRR"
      }
    },
    {
      "cell_type": "code",
      "execution_count": null,
      "metadata": {
        "colab": {
          "base_uri": "https://localhost:8080/"
        },
        "id": "fk9Jtws0xqLw",
        "outputId": "a80ca169-caba-4917-8a63-2566bb5a951c"
      },
      "outputs": [
        {
          "output_type": "stream",
          "name": "stdout",
          "text": [
            "\u001b[2K     \u001b[90m━━━━━━━━━━━━━━━━━━━━━━━━━━━━━━━━━━━━━━━━\u001b[0m \u001b[32m52.2/52.2 kB\u001b[0m \u001b[31m1.6 MB/s\u001b[0m eta \u001b[36m0:00:00\u001b[0m\n",
            "\u001b[2K     \u001b[90m━━━━━━━━━━━━━━━━━━━━━━━━━━━━━━━━━━━━━━━━\u001b[0m \u001b[32m226.7/226.7 kB\u001b[0m \u001b[31m10.7 MB/s\u001b[0m eta \u001b[36m0:00:00\u001b[0m\n",
            "\u001b[2K     \u001b[90m━━━━━━━━━━━━━━━━━━━━━━━━━━━━━━━━━━━━━━━━\u001b[0m \u001b[32m1.8/1.8 MB\u001b[0m \u001b[31m29.2 MB/s\u001b[0m eta \u001b[36m0:00:00\u001b[0m\n",
            "\u001b[2K     \u001b[90m━━━━━━━━━━━━━━━━━━━━━━━━━━━━━━━━━━━━━━━━\u001b[0m \u001b[32m3.1/3.1 MB\u001b[0m \u001b[31m24.1 MB/s\u001b[0m eta \u001b[36m0:00:00\u001b[0m\n",
            "\u001b[2K     \u001b[90m━━━━━━━━━━━━━━━━━━━━━━━━━━━━━━━━━━━━━━━━\u001b[0m \u001b[32m75.9/75.9 kB\u001b[0m \u001b[31m7.0 MB/s\u001b[0m eta \u001b[36m0:00:00\u001b[0m\n",
            "\u001b[2K     \u001b[90m━━━━━━━━━━━━━━━━━━━━━━━━━━━━━━━━━━━━━━━━\u001b[0m \u001b[32m76.9/76.9 kB\u001b[0m \u001b[31m7.4 MB/s\u001b[0m eta \u001b[36m0:00:00\u001b[0m\n",
            "\u001b[2K     \u001b[90m━━━━━━━━━━━━━━━━━━━━━━━━━━━━━━━━━━━━━━━━\u001b[0m \u001b[32m58.3/58.3 kB\u001b[0m \u001b[31m4.8 MB/s\u001b[0m eta \u001b[36m0:00:00\u001b[0m\n",
            "\u001b[?25h  Installing build dependencies ... \u001b[?25l\u001b[?25hdone\n",
            "  Getting requirements to build wheel ... \u001b[?25l\u001b[?25hdone\n",
            "  Preparing metadata (pyproject.toml) ... \u001b[?25l\u001b[?25hdone\n",
            "  Building wheel for openai-whisper (pyproject.toml) ... \u001b[?25l\u001b[?25hdone\n",
            "  Preparing metadata (setup.py) ... \u001b[?25l\u001b[?25hdone\n",
            "  Building wheel for pytube (setup.py) ... \u001b[?25l\u001b[?25hdone\n"
          ]
        }
      ],
      "source": [
        "!pip install -q cohere openai tiktoken\n",
        "!pip install -q \"git+https://github.com/openai/whisper.git\"\n",
        "!pip install -q \"git+https://github.com/garywu007/pytube.git\""
      ]
    },
    {
      "cell_type": "code",
      "source": [
        "import re\n",
        "from pytube import YouTube\n",
        "\n",
        "video_url = \"https://youtu.be/5bs9XoTac88\" #@param {type:\"string\"}\n",
        "# episode_date = \"20231220-\" #@param {type:\"string\"}\n",
        "drive_folder = \"\" #@param {type:\"string\"}\n",
        "\n",
        "yt = YouTube(video_url)\n",
        "episode_date = yt.publish_date.strftime('%Y%m%d-')\n",
        "source_audio = drive_folder + episode_date + (re.sub('[^A-Za-z0-9 ]+', '', yt.title).replace(' ', '_')) + \".mp4\"\n",
        "\n",
        "audio_file = YouTube(video_url).streams.filter(only_audio=True).first().download(filename=source_audio)\n",
        "print(f\"Downloaded '{source_audio}\")"
      ],
      "metadata": {
        "colab": {
          "base_uri": "https://localhost:8080/"
        },
        "id": "83zLdk5qzrM1",
        "outputId": "242fd995-0862-4fde-b84f-8e24331070ba"
      },
      "execution_count": null,
      "outputs": [
        {
          "output_type": "stream",
          "name": "stdout",
          "text": [
            "Downloaded '20140328-1993_Procesador_Intel_i486_DX2_Anuncio_Asegrese_de_que_su_prximo_PC_lo_lleva_dentro_En_Espaol.mp4\n"
          ]
        }
      ]
    },
    {
      "cell_type": "code",
      "source": [
        "import ipywidgets as widgets\n",
        "widgets.Audio.from_file(audio_file, autoplay=False, loop=False)"
      ],
      "metadata": {
        "colab": {
          "base_uri": "https://localhost:8080/",
          "height": 79,
          "referenced_widgets": [
            "93088d47f6574dd09f35047726181121",
            "d28987f3a98d46959aebdb79fd8b5ce8"
          ]
        },
        "id": "SA1LrZaHbwKs",
        "outputId": "76b4b127-033d-40e6-80ff-e473e032c01e"
      },
      "execution_count": null,
      "outputs": [
        {
          "output_type": "display_data",
          "data": {
            "text/plain": [
              "Audio(value=b'\\x00\\x00\\x00\\x18ftypdash\\x00\\x00\\x00\\x00iso6mp41\\x00\\x00\\x02imoov\\x00\\x00\\x00lmvhd\\x00\\x00\\x00\\x…"
            ],
            "application/vnd.jupyter.widget-view+json": {
              "version_major": 2,
              "version_minor": 0,
              "model_id": "93088d47f6574dd09f35047726181121"
            }
          },
          "metadata": {}
        }
      ]
    },
    {
      "cell_type": "code",
      "source": [
        "import whisper\n",
        "import torch\n",
        "\n",
        "model = whisper.load_model(\"small\")\n",
        "\n",
        "audio = whisper.load_audio(audio_file)\n",
        "audio = whisper.pad_or_trim(audio)\n",
        "\n",
        "# make log-Mel spectrogram and move to the same device as the model\n",
        "mel = whisper.log_mel_spectrogram(audio).to(model.device)\n",
        "\n",
        "# detect the spoken language\n",
        "_, probs = model.detect_language(mel)\n",
        "audio_lang = max(probs, key=probs.get)\n",
        "print(f\"Detected language: {audio_lang}\")"
      ],
      "metadata": {
        "colab": {
          "base_uri": "https://localhost:8080/"
        },
        "id": "AwzzjGFf7h-v",
        "outputId": "daa74757-ec30-4fc2-e0c5-6dfda110e976"
      },
      "execution_count": null,
      "outputs": [
        {
          "output_type": "stream",
          "name": "stdout",
          "text": [
            "Detected language: es\n"
          ]
        }
      ]
    },
    {
      "cell_type": "code",
      "source": [
        "# NLTK helps to split the transcription sentence by sentence\n",
        "# and shows it in a neat manner one below another. You will see it in the output below.\n",
        "\n",
        "import nltk\n",
        "nltk.download('punkt')\n",
        "from nltk import sent_tokenize\n",
        "\n",
        "# decode the audio\n",
        "options = whisper.DecodingOptions(fp16=torch.cuda.is_available(), language=audio_lang, task='transcribe')\n",
        "result = whisper.decode(model, mel, options)\n",
        "\n",
        "# print the recognized text\n",
        "print(\"----\\nTranscription from audio:\")\n",
        "for sent in sent_tokenize(result.text):\n",
        "  print(sent)\n",
        "\n",
        "# decode the audio\n",
        "options = whisper.DecodingOptions(fp16=torch.cuda.is_available(), language=audio_lang, task='translate')\n",
        "result = whisper.decode(model, mel, options)\n",
        "\n",
        "# print the recognized text\n",
        "print(\"----\\nTranslation from audio:\")\n",
        "for sent in sent_tokenize(result.text):\n",
        "  print(sent)"
      ],
      "metadata": {
        "colab": {
          "base_uri": "https://localhost:8080/"
        },
        "id": "LGaiMqnl6as7",
        "outputId": "96ed0e06-0b6b-433c-a545-55be9ae5c948"
      },
      "execution_count": null,
      "outputs": [
        {
          "output_type": "stream",
          "name": "stderr",
          "text": [
            "[nltk_data] Downloading package punkt to /root/nltk_data...\n",
            "[nltk_data]   Package punkt is already up-to-date!\n"
          ]
        },
        {
          "output_type": "stream",
          "name": "stdout",
          "text": [
            "----\n",
            "Transcription from audio:\n",
            "¿Quiere utilizar sus programas a toda velocidad?\n",
            "¿Necesita algo dentro de su Pfe que le dé más potencia y que esté preparado para el software del futuro?\n",
            "¿Necesita el microprocesador Intel 486 DX2?\n",
            "Y como es de Intel, usted sabe que es compatible con todo tipo de software.\n",
            "Intel 486 DX2, asegúrese de que su próximo Pfe lo lleva dentro.\n",
            "----\n",
            "Translation from audio:\n",
            "Do you want to use your programs at full speed?\n",
            "Do you need something inside your PC that gives you more power and that is prepared for the software of the future?\n",
            "Do you need the micro processor Intel 486DX2?\n",
            "And as it is Intel, you know that it is compatible with all kinds of software.\n",
            "Intel 486DX2, make sure that your next PC takes it inside.\n"
          ]
        }
      ]
    }
  ]
}