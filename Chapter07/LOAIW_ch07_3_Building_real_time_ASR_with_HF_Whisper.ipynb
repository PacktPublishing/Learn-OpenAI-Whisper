{
  "nbformat": 4,
  "nbformat_minor": 0,
  "metadata": {
    "colab": {
      "provenance": []
    },
    "kernelspec": {
      "name": "python3",
      "display_name": "Python 3"
    },
    "language_info": {
      "name": "python"
    }
  },
  "cells": [
    {
      "cell_type": "markdown",
      "source": [
        "# Learn OpenAI Whisper - Chapter 7\n",
        "\n",
        "## Notebook 3: Building a real-time ASR demo with Hugging Face Whisper\n",
        "\n",
        "[![Open In Colab](https://colab.research.google.com/assets/colab-badge.svg)](https://colab.research.google.com/drive/1G1KpicRfLpa88jPXrb_0nIXFueRq7MOV)\n",
        "\n",
        "In this notebook, we will leverage the power of Gradio, a user interface library, to rapidly construct an interactive demo of the Whisper model. This demo will allow you or others to test the model's performance by speaking into the microphone on your device. The notebook is structured into three main sections:\n",
        "\n",
        "1. **Setting up the Automatic Speech Recognition (ASR) model using the Hugging Face Transformers library**: We will load and configure the necessary components from the transformers library to prepare the ASR model for our demo.\n",
        "\n",
        "2. **Creating a full-context ASR demo**: In this section, we will build a demo where the user speaks the entire audio before the ASR model processes it and generates the transcription.\n",
        "\n",
        "3. **Creating a streaming ASR demo**: We will extend the previous demo to support real-time streaming, allowing the ASR model to transcribe the audio as the user speaks, providing a more interactive experience.\n",
        "\n",
        "By the end of this notebook, you will have a solid understanding of how to create engaging demos for speech recognition models using Gradio and the Hugging Face Transformers library.\n"
      ],
      "metadata": {
        "id": "YQ3ykPO7PTRC"
      }
    },
    {
      "cell_type": "markdown",
      "source": [
        "## Preparing the Development Environment\n",
        "\n",
        "Before diving into building the speech recognition demos, it's crucial to set up our development environment with the necessary dependencies. In this section, we will:\n",
        "\n",
        "1. Install the required libraries, such as Gradio, to ensure a smooth development process.\n",
        "2. Configure the environment to work seamlessly with the Hugging Face Transformers library, allowing us to leverage pre-trained models and powerful NLP tools.\n",
        "\n",
        "By properly setting up our environment, we lay the foundation for an efficient and hassle-free coding experience throughout the notebook.\n"
      ],
      "metadata": {
        "id": "dVVEsF-2RcyQ"
      }
    },
    {
      "cell_type": "code",
      "source": [
        "%%capture\n",
        "!pip -q install gradio"
      ],
      "metadata": {
        "id": "05CERYcm3My2"
      },
      "execution_count": null,
      "outputs": []
    },
    {
      "cell_type": "markdown",
      "metadata": {
        "id": "1f60d173-8de1-4ed7-bc9a-d281cf237203"
      },
      "source": [
        "**Attention: Setting Up Your Hugging Face Token**\n",
        "\n",
        "To ensure a seamless experience while working with this notebook, it is essential to set up your Hugging Face token. The notebook will be loading transformer classes and models from the Hugging Face repository, which requires authentication using a valid token.\n",
        "\n",
        "If you haven't created a Hugging Face token yet or need a refresher on the process, please refer to the [notebook for Chapter 3](https://github.com/PacktPublishing/Learn-OpenAI-Whisper/blob/main/Chapter03/LOAIW_ch03_working_with_audio_data_via_Hugging_Face.ipynb). This resource provides step-by-step instructions on how to create and configure your Hugging Face token.\n",
        "\n",
        "By setting up your token correctly, you'll be able to access the full range of features and models available in the Hugging Face ecosystem, enabling you to build powerful speech recognition demos with ease."
      ]
    },
    {
      "cell_type": "code",
      "execution_count": null,
      "metadata": {
        "id": "b045a39e-2a3e-4153-bdb5-281500bcd348"
      },
      "outputs": [],
      "source": [
        "from huggingface_hub import notebook_login\n",
        "\n",
        "notebook_login()"
      ]
    },
    {
      "cell_type": "code",
      "source": [
        "from huggingface_hub import whoami\n",
        "\n",
        "whoami()\n",
        "# you should see something like {'type': 'user',  'id': '...',  'name': 'Wauplin', ...}"
      ],
      "metadata": {
        "id": "t-Cj-HImlUSd"
      },
      "execution_count": null,
      "outputs": []
    },
    {
      "cell_type": "markdown",
      "source": [
        "## Step 1: Loading the Transformers ASR Model\n",
        "\n",
        "To begin building our speech recognition demo, we first need to have an Automatic Speech Recognition (ASR) model. You can either train your own model or use a pre-trained one. In this tutorial, we will leverage a pre-trained ASR model called \"whisper\" from OpenAI.\n",
        "\n",
        "Loading the \"whisper\" model from the Hugging Face Transformers library is a straightforward process. Here's the code snippet to accomplish this:\n",
        "\n",
        "```python\n",
        "from transformers import pipeline\n",
        "p = pipeline(\"automatic-speech-recognition\", model=\"openai/whisper-base.en\")\n",
        "```\n",
        "\n",
        "With just these two lines of code, we initialize a pipeline for automatic speech recognition using the \"openai/whisper-base.en\" model. The pipeline abstracts away the complexities of working with the model directly, providing a high-level interface for performing ASR tasks.\n",
        "\n",
        "By utilizing a pre-trained model like \"whisper\", we can quickly get started with building our demo without the need for extensive model training. This allows us to focus on integrating the model into our application and creating an engaging user experience."
      ],
      "metadata": {
        "id": "zilL_lNDSRJ4"
      }
    },
    {
      "cell_type": "markdown",
      "source": [
        "## Step 2: Building a Full-Context ASR Demo with Transformers\n",
        "\n",
        "Our first step in creating the speech recognition demo is to build a *full-context* ASR demo. In this demo, the user will speak the entire audio before the ASR model processes it and generates the transcription. Thanks to Gradio's intuitive interface, building this demo is a breeze.\n",
        "\n",
        "We'll start by creating a function that wraps around the `pipeline` object we initialized earlier. This function will serve as the core of our demo, handling the audio input and generating the transcription.\n",
        "\n",
        "To capture the user's audio input, we'll utilize Gradio's built-in `Audio` component. This component will be configured to accept input from the user's microphone and return the filepath of the recorded audio. For displaying the transcribed text, we'll use a simple `Textbox` component.\n",
        "\n",
        "The `transcribe` function, which is the heart of our demo, takes a single parameter called `audio`. This parameter represents the audio data recorded by the user, stored as a NumPy array. However, the `pipeline` object expects the audio data to be in the `float32` format. To ensure compatibility, we first convert the audio data to `float32` and then normalize it by dividing it by its maximum absolute value. Finally, we pass the processed audio data to the `pipeline` object to obtain the transcribed text."
      ],
      "metadata": {
        "id": "Q6F2DkegPQ1h"
      }
    },
    {
      "cell_type": "code",
      "source": [
        "import gradio as gr\n",
        "from transformers import pipeline\n",
        "import numpy as np\n",
        "\n",
        "transcriber = pipeline(\"automatic-speech-recognition\", model=\"openai/whisper-base.en\")\n",
        "\n",
        "def transcribe(audio):\n",
        "    sr, y = audio\n",
        "    y = y.astype(np.float32)\n",
        "    y /= np.max(np.abs(y))\n",
        "\n",
        "    return transcriber({\"sampling_rate\": sr, \"raw\": y})[\"text\"]\n",
        "\n",
        "\n",
        "demo = gr.Interface(\n",
        "    transcribe,\n",
        "    gr.Audio(sources=[\"microphone\"]),\n",
        "    \"text\",\n",
        ")\n",
        "\n",
        "demo.launch(debug=True)"
      ],
      "metadata": {
        "id": "AhsC5M4nR7Xc"
      },
      "execution_count": null,
      "outputs": []
    },
    {
      "cell_type": "markdown",
      "source": [
        "## Step 3: Enhancing the Demo with Real-time Streaming Capabilities\n",
        "\n",
        "To create a streaming ASR demo, we need to make the following changes:\n",
        "\n",
        "1. Set **streaming=True** in the **Audio** component to enable continuous audio capture from the user's microphone.\n",
        "2. Set **live=True** in the **Interface** to ensure that the interface updates dynamically as new audio data is received.\n",
        "3. Add a **state** variable to the interface to store the recorded audio and the previous transcription.\n",
        "\n",
        "In the streaming demo, we use a state variable to keep track of the audio history and the previous transcription. The **transcribe** function is called whenever a new small chunk of audio is received, and it needs to process the new chunk along with the previously recorded audio.\n",
        "\n",
        "To improve the accuracy and coherence of the transcription, we introduce a dynamic window size based on the duration of the new audio chunk and a small overlap between consecutive windows. Here's how the **transcribe** function works:\n",
        "\n",
        "1. If the **state** is None, initialize an empty numpy array (**stream**) to store the audio and an empty string (**previous_text**) to store the previous transcription.\n",
        "2. Extract the sampling rate (**sr**) and audio data (**y**) from the **new_chunk**.\n",
        "3. Calculate the duration of the new audio chunk and normalize the audio data.\n",
        "4. Introduce an overlap of half a second between consecutive windows to ensure continuity in the transcription.\n",
        "5. Concatenate the new audio chunk to the existing **stream**, taking into account the overlap.\n",
        "6. Transcribe the entire **stream** using the **transcriber** object.\n",
        "7. Update the **previous_text** by removing the overlap from the end of the previous transcription and concatenating it with the new transcription.\n",
        "8. Return the updated **stream** and **combined_text** as the state, and the **combined_text** as the transcription output.\n",
        "\n",
        "By using a dynamic window size and introducing an overlap between consecutive windows, we can improve the accuracy and coherence of the streaming transcription. The small overlap helps maintain continuity in the transcription and reduces the occurrence of overlapping or missing words."
      ],
      "metadata": {
        "id": "5bfMffVgS9SW"
      }
    },
    {
      "cell_type": "code",
      "source": [
        "import gradio as gr\n",
        "from transformers import pipeline\n",
        "import numpy as np\n",
        "\n",
        "transcriber = pipeline(\"automatic-speech-recognition\", model=\"openai/whisper-base.en\")\n",
        "\n",
        "def transcribe(state, new_chunk):\n",
        "    if state is None:\n",
        "        stream = np.array([], dtype=np.float32)\n",
        "        previous_text = \"\"\n",
        "    else:\n",
        "        stream, previous_text = state\n",
        "\n",
        "    sr, y = new_chunk\n",
        "    duration = len(y) / sr\n",
        "    y = y.astype(np.float32)\n",
        "    y /= np.max(np.abs(y))\n",
        "\n",
        "    overlap = int(sr * 0.5)  # Half a second overlap\n",
        "    if len(stream) > 0:\n",
        "        stream = np.concatenate([stream[-overlap:], y])\n",
        "    else:\n",
        "        stream = y\n",
        "\n",
        "    # Transcribe the current chunk\n",
        "    new_text = transcriber({\"sampling_rate\": sr, \"raw\": stream})[\"text\"]\n",
        "\n",
        "    # Update the previous text based on the overlap\n",
        "    if len(previous_text) > 0:\n",
        "        overlap_text = previous_text[-int(len(previous_text) * 0.1):]  # Last 10% of previous text\n",
        "        combined_text = previous_text[:-len(overlap_text)] + new_text\n",
        "    else:\n",
        "        combined_text = new_text\n",
        "\n",
        "    return (stream, combined_text), combined_text\n",
        "\n",
        "demo = gr.Interface(\n",
        "    transcribe,\n",
        "    [\"state\", gr.Audio(sources=[\"microphone\"], streaming=True)],\n",
        "    [\"state\", \"text\"],\n",
        "    live=True,\n",
        ")\n",
        "\n",
        "demo.launch(debug=True)"
      ],
      "metadata": {
        "id": "Z_yyHmI3XxNc"
      },
      "execution_count": null,
      "outputs": []
    }
  ]
}